{
  "nbformat": 4,
  "nbformat_minor": 0,
  "metadata": {
    "colab": {
      "name": "nlp1.ipynb",
      "provenance": [],
      "collapsed_sections": []
    },
    "kernelspec": {
      "name": "python3",
      "display_name": "Python 3"
    },
    "language_info": {
      "name": "python"
    }
  },
  "cells": [
    {
      "cell_type": "code",
      "metadata": {
        "id": "0QHQOC6X3_-b"
      },
      "source": [
        "import pandas as pd\n",
        "import re\n",
        "import numpy as np"
      ],
      "execution_count": 1,
      "outputs": []
    },
    {
      "cell_type": "code",
      "metadata": {
        "id": "2kKAaQWm_pp8"
      },
      "source": [
        "from nltk.corpus import stopwords"
      ],
      "execution_count": 2,
      "outputs": []
    },
    {
      "cell_type": "code",
      "metadata": {
        "id": "VoNFR3fO2cUn"
      },
      "source": [
        "#pd.set_option('display.max_columns', None)  \n",
        "#pd.set_option('display.expand_frame_repr', False)\n",
        "pd.set_option('max_colwidth', 800)\n",
        "\n",
        "data_test = pd.read_csv('test_tweets.csv')\n",
        "data_train = pd.read_csv('train_tweets.csv')"
      ],
      "execution_count": 3,
      "outputs": []
    },
    {
      "cell_type": "code",
      "metadata": {
        "id": "4jRHpmiQ8wW-"
      },
      "source": [
        "data = data_train"
      ],
      "execution_count": 9,
      "outputs": []
    },
    {
      "cell_type": "code",
      "metadata": {
        "id": "KPM1_6Uk3SgU"
      },
      "source": [
        "regex = re.compile(\"@[\\w]*\")\n",
        "\n",
        "def without_mention(text, regex=regex):\n",
        "    return re.sub(regex, '', text)"
      ],
      "execution_count": 5,
      "outputs": []
    },
    {
      "cell_type": "code",
      "metadata": {
        "id": "bYTzqo3_-t92"
      },
      "source": [
        "def fr_wo_mention(frame):\n",
        "    frame['tweet_wo_mention'] = None\n",
        "    for i in range(0, frame.shape[0]):\n",
        "        frame.tweet_wo_mention[i] = without_mention(frame.tweet[i]).lower()\n",
        "    return frame"
      ],
      "execution_count": 6,
      "outputs": []
    },
    {
      "cell_type": "code",
      "metadata": {
        "colab": {
          "base_uri": "https://localhost:8080/"
        },
        "id": "ZYDHklqV8zTc",
        "outputId": "ea193d7b-9746-4169-aaa1-8af46638d848"
      },
      "source": [
        "print(data.tweet[1])"
      ],
      "execution_count": 10,
      "outputs": [
        {
          "output_type": "stream",
          "text": [
            "@user @user thanks for #lyft credit i can't use cause they don't offer wheelchair vans in pdx.    #disapointed #getthanked\n"
          ],
          "name": "stdout"
        }
      ]
    },
    {
      "cell_type": "code",
      "metadata": {
        "colab": {
          "base_uri": "https://localhost:8080/"
        },
        "id": "ixo-K16m84_F",
        "outputId": "e9a924c6-b3a9-462e-f785-48ad4d92a320"
      },
      "source": [
        "print(without_mention(data.tweet[1]))"
      ],
      "execution_count": 11,
      "outputs": [
        {
          "output_type": "stream",
          "text": [
            "  thanks for #lyft credit i can't use cause they don't offer wheelchair vans in pdx.    #disapointed #getthanked\n"
          ],
          "name": "stdout"
        }
      ]
    },
    {
      "cell_type": "code",
      "metadata": {
        "colab": {
          "base_uri": "https://localhost:8080/"
        },
        "id": "NUBMkI9H-Um1",
        "outputId": "2fc6dd66-4c56-45fb-d1fb-dfe8a024bba8"
      },
      "source": [
        "data_train = fr_wo_mention(data_train)"
      ],
      "execution_count": 12,
      "outputs": [
        {
          "output_type": "stream",
          "text": [
            "/usr/local/lib/python3.7/dist-packages/ipykernel_launcher.py:4: SettingWithCopyWarning: \n",
            "A value is trying to be set on a copy of a slice from a DataFrame\n",
            "\n",
            "See the caveats in the documentation: https://pandas.pydata.org/pandas-docs/stable/user_guide/indexing.html#returning-a-view-versus-a-copy\n",
            "  after removing the cwd from sys.path.\n"
          ],
          "name": "stderr"
        }
      ]
    },
    {
      "cell_type": "code",
      "metadata": {
        "id": "IUnPIrjk_cJ1"
      },
      "source": [
        "apostrophe_dict = {\"aren't\":\"arent\", \"can't\":\"cant\"}"
      ],
      "execution_count": 13,
      "outputs": []
    },
    {
      "cell_type": "code",
      "metadata": {
        "id": "9CEqGvp0CtP-"
      },
      "source": [
        "short_words_dict = {\"cant\":\"can not\"}"
      ],
      "execution_count": 14,
      "outputs": []
    },
    {
      "cell_type": "code",
      "metadata": {
        "id": "LoDY9IxICygt"
      },
      "source": [
        "emoticon_dict = {\":)\":\" \"}"
      ],
      "execution_count": 15,
      "outputs": []
    },
    {
      "cell_type": "code",
      "metadata": {
        "id": "pirryMcXAm91"
      },
      "source": [
        "def fr_wo_words(frame, dict, where, what):\n",
        "    frame[what] = None\n",
        "    for i in range(0, frame.shape[0]):\n",
        "        text = frame[where][i] \n",
        "        for word in text.split():\n",
        "            if word in dict:\n",
        "                pos = text.find(word)\n",
        "                text = text[:pos] + dict[word] +' ' + text[pos+len(word)+1:]\n",
        "        frame[what][i] = text\n",
        "    return frame"
      ],
      "execution_count": 16,
      "outputs": []
    },
    {
      "cell_type": "code",
      "metadata": {
        "colab": {
          "base_uri": "https://localhost:8080/",
          "height": 589
        },
        "id": "7kxZIEeNBcc3",
        "outputId": "995f3f10-c778-4e26-defe-a8c6ffaee4cb"
      },
      "source": [
        "data_train= fr_wo_words(data_train, apostrophe_dict, 'tweet_wo_mention', 'tweet_wo_apostr')\n",
        "data_train"
      ],
      "execution_count": 17,
      "outputs": [
        {
          "output_type": "stream",
          "text": [
            "/usr/local/lib/python3.7/dist-packages/ipykernel_launcher.py:9: SettingWithCopyWarning: \n",
            "A value is trying to be set on a copy of a slice from a DataFrame\n",
            "\n",
            "See the caveats in the documentation: https://pandas.pydata.org/pandas-docs/stable/user_guide/indexing.html#returning-a-view-versus-a-copy\n",
            "  if __name__ == '__main__':\n"
          ],
          "name": "stderr"
        },
        {
          "output_type": "execute_result",
          "data": {
            "text/html": [
              "<div>\n",
              "<style scoped>\n",
              "    .dataframe tbody tr th:only-of-type {\n",
              "        vertical-align: middle;\n",
              "    }\n",
              "\n",
              "    .dataframe tbody tr th {\n",
              "        vertical-align: top;\n",
              "    }\n",
              "\n",
              "    .dataframe thead th {\n",
              "        text-align: right;\n",
              "    }\n",
              "</style>\n",
              "<table border=\"1\" class=\"dataframe\">\n",
              "  <thead>\n",
              "    <tr style=\"text-align: right;\">\n",
              "      <th></th>\n",
              "      <th>id</th>\n",
              "      <th>label</th>\n",
              "      <th>tweet</th>\n",
              "      <th>tweet_wo_mention</th>\n",
              "      <th>tweet_wo_apostr</th>\n",
              "    </tr>\n",
              "  </thead>\n",
              "  <tbody>\n",
              "    <tr>\n",
              "      <th>0</th>\n",
              "      <td>1</td>\n",
              "      <td>0</td>\n",
              "      <td>@user when a father is dysfunctional and is so selfish he drags his kids into his dysfunction.   #run</td>\n",
              "      <td>when a father is dysfunctional and is so selfish he drags his kids into his dysfunction.   #run</td>\n",
              "      <td>when a father is dysfunctional and is so selfish he drags his kids into his dysfunction.   #run</td>\n",
              "    </tr>\n",
              "    <tr>\n",
              "      <th>1</th>\n",
              "      <td>2</td>\n",
              "      <td>0</td>\n",
              "      <td>@user @user thanks for #lyft credit i can't use cause they don't offer wheelchair vans in pdx.    #disapointed #getthanked</td>\n",
              "      <td>thanks for #lyft credit i can't use cause they don't offer wheelchair vans in pdx.    #disapointed #getthanked</td>\n",
              "      <td>thanks for #lyft credit i cant use cause they don't offer wheelchair vans in pdx.    #disapointed #getthanked</td>\n",
              "    </tr>\n",
              "    <tr>\n",
              "      <th>2</th>\n",
              "      <td>3</td>\n",
              "      <td>0</td>\n",
              "      <td>bihday your majesty</td>\n",
              "      <td>bihday your majesty</td>\n",
              "      <td>bihday your majesty</td>\n",
              "    </tr>\n",
              "    <tr>\n",
              "      <th>3</th>\n",
              "      <td>4</td>\n",
              "      <td>0</td>\n",
              "      <td>#model   i love u take with u all the time in urð±!!! ððððð¦ð¦ð¦</td>\n",
              "      <td>#model   i love u take with u all the time in urð±!!! ððððð¦ð¦ð¦</td>\n",
              "      <td>#model   i love u take with u all the time in urð±!!! ððððð¦ð¦ð¦</td>\n",
              "    </tr>\n",
              "    <tr>\n",
              "      <th>4</th>\n",
              "      <td>5</td>\n",
              "      <td>0</td>\n",
              "      <td>factsguide: society now    #motivation</td>\n",
              "      <td>factsguide: society now    #motivation</td>\n",
              "      <td>factsguide: society now    #motivation</td>\n",
              "    </tr>\n",
              "    <tr>\n",
              "      <th>...</th>\n",
              "      <td>...</td>\n",
              "      <td>...</td>\n",
              "      <td>...</td>\n",
              "      <td>...</td>\n",
              "      <td>...</td>\n",
              "    </tr>\n",
              "    <tr>\n",
              "      <th>31957</th>\n",
              "      <td>31958</td>\n",
              "      <td>0</td>\n",
              "      <td>ate @user isz that youuu?ðððððððððâ¤ï¸</td>\n",
              "      <td>ate  isz that youuu?ðððððððððâ¤ï¸</td>\n",
              "      <td>ate  isz that youuu?ðððððððððâ¤ï¸</td>\n",
              "    </tr>\n",
              "    <tr>\n",
              "      <th>31958</th>\n",
              "      <td>31959</td>\n",
              "      <td>0</td>\n",
              "      <td>to see nina turner on the airwaves trying to wrap herself in the mantle of a genuine hero like shirley chisolm. #shame #imwithher</td>\n",
              "      <td>to see nina turner on the airwaves trying to wrap herself in the mantle of a genuine hero like shirley chisolm. #shame #imwithher</td>\n",
              "      <td>to see nina turner on the airwaves trying to wrap herself in the mantle of a genuine hero like shirley chisolm. #shame #imwithher</td>\n",
              "    </tr>\n",
              "    <tr>\n",
              "      <th>31959</th>\n",
              "      <td>31960</td>\n",
              "      <td>0</td>\n",
              "      <td>listening to sad songs on a monday morning otw to work is sad</td>\n",
              "      <td>listening to sad songs on a monday morning otw to work is sad</td>\n",
              "      <td>listening to sad songs on a monday morning otw to work is sad</td>\n",
              "    </tr>\n",
              "    <tr>\n",
              "      <th>31960</th>\n",
              "      <td>31961</td>\n",
              "      <td>1</td>\n",
              "      <td>@user #sikh #temple vandalised in in #calgary, #wso condemns  act</td>\n",
              "      <td>#sikh #temple vandalised in in #calgary, #wso condemns  act</td>\n",
              "      <td>#sikh #temple vandalised in in #calgary, #wso condemns  act</td>\n",
              "    </tr>\n",
              "    <tr>\n",
              "      <th>31961</th>\n",
              "      <td>31962</td>\n",
              "      <td>0</td>\n",
              "      <td>thank you @user for you follow</td>\n",
              "      <td>thank you  for you follow</td>\n",
              "      <td>thank you  for you follow</td>\n",
              "    </tr>\n",
              "  </tbody>\n",
              "</table>\n",
              "<p>31962 rows × 5 columns</p>\n",
              "</div>"
            ],
            "text/plain": [
              "          id  ...                                                                                                                      tweet_wo_apostr\n",
              "0          1  ...                                      when a father is dysfunctional and is so selfish he drags his kids into his dysfunction.   #run\n",
              "1          2  ...                        thanks for #lyft credit i cant use cause they don't offer wheelchair vans in pdx.    #disapointed #getthanked\n",
              "2          3  ...                                                                                                                  bihday your majesty\n",
              "3          4  ...                                               #model   i love u take with u all the time in urð±!!! ðððð\n",
              "ð¦ð¦ð¦  \n",
              "4          5  ...                                                                                               factsguide: society now    #motivation\n",
              "...      ...  ...                                                                                                                                  ...\n",
              "31957  31958  ...                                                                      ate  isz that youuu?ðððððððððâ¤ï¸ \n",
              "31958  31959  ...    to see nina turner on the airwaves trying to wrap herself in the mantle of a genuine hero like shirley chisolm. #shame #imwithher\n",
              "31959  31960  ...                                                                      listening to sad songs on a monday morning otw to work is sad  \n",
              "31960  31961  ...                                                                        #sikh #temple vandalised in in #calgary, #wso condemns  act  \n",
              "31961  31962  ...                                                                                                          thank you  for you follow  \n",
              "\n",
              "[31962 rows x 5 columns]"
            ]
          },
          "metadata": {
            "tags": []
          },
          "execution_count": 17
        }
      ]
    },
    {
      "cell_type": "code",
      "metadata": {
        "colab": {
          "base_uri": "https://localhost:8080/",
          "height": 643
        },
        "id": "Log-NfcZDMjm",
        "outputId": "8f2076ea-fd24-4af8-fd93-bd5cd4111dcf"
      },
      "source": [
        "data_train= fr_wo_words(data_train, short_words_dict, 'tweet_wo_apostr', 'tweet_wo_short')\n",
        "data_train"
      ],
      "execution_count": 18,
      "outputs": [
        {
          "output_type": "stream",
          "text": [
            "/usr/local/lib/python3.7/dist-packages/ipykernel_launcher.py:9: SettingWithCopyWarning: \n",
            "A value is trying to be set on a copy of a slice from a DataFrame\n",
            "\n",
            "See the caveats in the documentation: https://pandas.pydata.org/pandas-docs/stable/user_guide/indexing.html#returning-a-view-versus-a-copy\n",
            "  if __name__ == '__main__':\n"
          ],
          "name": "stderr"
        },
        {
          "output_type": "execute_result",
          "data": {
            "text/html": [
              "<div>\n",
              "<style scoped>\n",
              "    .dataframe tbody tr th:only-of-type {\n",
              "        vertical-align: middle;\n",
              "    }\n",
              "\n",
              "    .dataframe tbody tr th {\n",
              "        vertical-align: top;\n",
              "    }\n",
              "\n",
              "    .dataframe thead th {\n",
              "        text-align: right;\n",
              "    }\n",
              "</style>\n",
              "<table border=\"1\" class=\"dataframe\">\n",
              "  <thead>\n",
              "    <tr style=\"text-align: right;\">\n",
              "      <th></th>\n",
              "      <th>id</th>\n",
              "      <th>label</th>\n",
              "      <th>tweet</th>\n",
              "      <th>tweet_wo_mention</th>\n",
              "      <th>tweet_wo_apostr</th>\n",
              "      <th>tweet_wo_short</th>\n",
              "    </tr>\n",
              "  </thead>\n",
              "  <tbody>\n",
              "    <tr>\n",
              "      <th>0</th>\n",
              "      <td>1</td>\n",
              "      <td>0</td>\n",
              "      <td>@user when a father is dysfunctional and is so selfish he drags his kids into his dysfunction.   #run</td>\n",
              "      <td>when a father is dysfunctional and is so selfish he drags his kids into his dysfunction.   #run</td>\n",
              "      <td>when a father is dysfunctional and is so selfish he drags his kids into his dysfunction.   #run</td>\n",
              "      <td>when a father is dysfunctional and is so selfish he drags his kids into his dysfunction.   #run</td>\n",
              "    </tr>\n",
              "    <tr>\n",
              "      <th>1</th>\n",
              "      <td>2</td>\n",
              "      <td>0</td>\n",
              "      <td>@user @user thanks for #lyft credit i can't use cause they don't offer wheelchair vans in pdx.    #disapointed #getthanked</td>\n",
              "      <td>thanks for #lyft credit i can't use cause they don't offer wheelchair vans in pdx.    #disapointed #getthanked</td>\n",
              "      <td>thanks for #lyft credit i cant use cause they don't offer wheelchair vans in pdx.    #disapointed #getthanked</td>\n",
              "      <td>thanks for #lyft credit i can not use cause they don't offer wheelchair vans in pdx.    #disapointed #getthanked</td>\n",
              "    </tr>\n",
              "    <tr>\n",
              "      <th>2</th>\n",
              "      <td>3</td>\n",
              "      <td>0</td>\n",
              "      <td>bihday your majesty</td>\n",
              "      <td>bihday your majesty</td>\n",
              "      <td>bihday your majesty</td>\n",
              "      <td>bihday your majesty</td>\n",
              "    </tr>\n",
              "    <tr>\n",
              "      <th>3</th>\n",
              "      <td>4</td>\n",
              "      <td>0</td>\n",
              "      <td>#model   i love u take with u all the time in urð±!!! ððððð¦ð¦ð¦</td>\n",
              "      <td>#model   i love u take with u all the time in urð±!!! ððððð¦ð¦ð¦</td>\n",
              "      <td>#model   i love u take with u all the time in urð±!!! ððððð¦ð¦ð¦</td>\n",
              "      <td>#model   i love u take with u all the time in urð±!!! ððððð¦ð¦ð¦</td>\n",
              "    </tr>\n",
              "    <tr>\n",
              "      <th>4</th>\n",
              "      <td>5</td>\n",
              "      <td>0</td>\n",
              "      <td>factsguide: society now    #motivation</td>\n",
              "      <td>factsguide: society now    #motivation</td>\n",
              "      <td>factsguide: society now    #motivation</td>\n",
              "      <td>factsguide: society now    #motivation</td>\n",
              "    </tr>\n",
              "    <tr>\n",
              "      <th>...</th>\n",
              "      <td>...</td>\n",
              "      <td>...</td>\n",
              "      <td>...</td>\n",
              "      <td>...</td>\n",
              "      <td>...</td>\n",
              "      <td>...</td>\n",
              "    </tr>\n",
              "    <tr>\n",
              "      <th>31957</th>\n",
              "      <td>31958</td>\n",
              "      <td>0</td>\n",
              "      <td>ate @user isz that youuu?ðððððððððâ¤ï¸</td>\n",
              "      <td>ate  isz that youuu?ðððððððððâ¤ï¸</td>\n",
              "      <td>ate  isz that youuu?ðððððððððâ¤ï¸</td>\n",
              "      <td>ate  isz that youuu?ðððððððððâ¤ï¸</td>\n",
              "    </tr>\n",
              "    <tr>\n",
              "      <th>31958</th>\n",
              "      <td>31959</td>\n",
              "      <td>0</td>\n",
              "      <td>to see nina turner on the airwaves trying to wrap herself in the mantle of a genuine hero like shirley chisolm. #shame #imwithher</td>\n",
              "      <td>to see nina turner on the airwaves trying to wrap herself in the mantle of a genuine hero like shirley chisolm. #shame #imwithher</td>\n",
              "      <td>to see nina turner on the airwaves trying to wrap herself in the mantle of a genuine hero like shirley chisolm. #shame #imwithher</td>\n",
              "      <td>to see nina turner on the airwaves trying to wrap herself in the mantle of a genuine hero like shirley chisolm. #shame #imwithher</td>\n",
              "    </tr>\n",
              "    <tr>\n",
              "      <th>31959</th>\n",
              "      <td>31960</td>\n",
              "      <td>0</td>\n",
              "      <td>listening to sad songs on a monday morning otw to work is sad</td>\n",
              "      <td>listening to sad songs on a monday morning otw to work is sad</td>\n",
              "      <td>listening to sad songs on a monday morning otw to work is sad</td>\n",
              "      <td>listening to sad songs on a monday morning otw to work is sad</td>\n",
              "    </tr>\n",
              "    <tr>\n",
              "      <th>31960</th>\n",
              "      <td>31961</td>\n",
              "      <td>1</td>\n",
              "      <td>@user #sikh #temple vandalised in in #calgary, #wso condemns  act</td>\n",
              "      <td>#sikh #temple vandalised in in #calgary, #wso condemns  act</td>\n",
              "      <td>#sikh #temple vandalised in in #calgary, #wso condemns  act</td>\n",
              "      <td>#sikh #temple vandalised in in #calgary, #wso condemns  act</td>\n",
              "    </tr>\n",
              "    <tr>\n",
              "      <th>31961</th>\n",
              "      <td>31962</td>\n",
              "      <td>0</td>\n",
              "      <td>thank you @user for you follow</td>\n",
              "      <td>thank you  for you follow</td>\n",
              "      <td>thank you  for you follow</td>\n",
              "      <td>thank you  for you follow</td>\n",
              "    </tr>\n",
              "  </tbody>\n",
              "</table>\n",
              "<p>31962 rows × 6 columns</p>\n",
              "</div>"
            ],
            "text/plain": [
              "          id  ...                                                                                                                       tweet_wo_short\n",
              "0          1  ...                                      when a father is dysfunctional and is so selfish he drags his kids into his dysfunction.   #run\n",
              "1          2  ...                     thanks for #lyft credit i can not use cause they don't offer wheelchair vans in pdx.    #disapointed #getthanked\n",
              "2          3  ...                                                                                                                  bihday your majesty\n",
              "3          4  ...                                               #model   i love u take with u all the time in urð±!!! ðððð\n",
              "ð¦ð¦ð¦  \n",
              "4          5  ...                                                                                               factsguide: society now    #motivation\n",
              "...      ...  ...                                                                                                                                  ...\n",
              "31957  31958  ...                                                                      ate  isz that youuu?ðððððððððâ¤ï¸ \n",
              "31958  31959  ...    to see nina turner on the airwaves trying to wrap herself in the mantle of a genuine hero like shirley chisolm. #shame #imwithher\n",
              "31959  31960  ...                                                                      listening to sad songs on a monday morning otw to work is sad  \n",
              "31960  31961  ...                                                                        #sikh #temple vandalised in in #calgary, #wso condemns  act  \n",
              "31961  31962  ...                                                                                                          thank you  for you follow  \n",
              "\n",
              "[31962 rows x 6 columns]"
            ]
          },
          "metadata": {
            "tags": []
          },
          "execution_count": 18
        }
      ]
    },
    {
      "cell_type": "code",
      "metadata": {
        "colab": {
          "base_uri": "https://localhost:8080/",
          "height": 643
        },
        "id": "jzAD6U8DE21f",
        "outputId": "9858881d-b1f7-4d7c-f845-4781739053e3"
      },
      "source": [
        "data_train= fr_wo_words(data_train, emoticon_dict, 'tweet_wo_short', 'tweet_wo_emot')\n",
        "data_train"
      ],
      "execution_count": 19,
      "outputs": [
        {
          "output_type": "stream",
          "text": [
            "/usr/local/lib/python3.7/dist-packages/ipykernel_launcher.py:9: SettingWithCopyWarning: \n",
            "A value is trying to be set on a copy of a slice from a DataFrame\n",
            "\n",
            "See the caveats in the documentation: https://pandas.pydata.org/pandas-docs/stable/user_guide/indexing.html#returning-a-view-versus-a-copy\n",
            "  if __name__ == '__main__':\n"
          ],
          "name": "stderr"
        },
        {
          "output_type": "execute_result",
          "data": {
            "text/html": [
              "<div>\n",
              "<style scoped>\n",
              "    .dataframe tbody tr th:only-of-type {\n",
              "        vertical-align: middle;\n",
              "    }\n",
              "\n",
              "    .dataframe tbody tr th {\n",
              "        vertical-align: top;\n",
              "    }\n",
              "\n",
              "    .dataframe thead th {\n",
              "        text-align: right;\n",
              "    }\n",
              "</style>\n",
              "<table border=\"1\" class=\"dataframe\">\n",
              "  <thead>\n",
              "    <tr style=\"text-align: right;\">\n",
              "      <th></th>\n",
              "      <th>id</th>\n",
              "      <th>label</th>\n",
              "      <th>tweet</th>\n",
              "      <th>tweet_wo_mention</th>\n",
              "      <th>tweet_wo_apostr</th>\n",
              "      <th>tweet_wo_short</th>\n",
              "      <th>tweet_wo_emot</th>\n",
              "    </tr>\n",
              "  </thead>\n",
              "  <tbody>\n",
              "    <tr>\n",
              "      <th>0</th>\n",
              "      <td>1</td>\n",
              "      <td>0</td>\n",
              "      <td>@user when a father is dysfunctional and is so selfish he drags his kids into his dysfunction.   #run</td>\n",
              "      <td>when a father is dysfunctional and is so selfish he drags his kids into his dysfunction.   #run</td>\n",
              "      <td>when a father is dysfunctional and is so selfish he drags his kids into his dysfunction.   #run</td>\n",
              "      <td>when a father is dysfunctional and is so selfish he drags his kids into his dysfunction.   #run</td>\n",
              "      <td>when a father is dysfunctional and is so selfish he drags his kids into his dysfunction.   #run</td>\n",
              "    </tr>\n",
              "    <tr>\n",
              "      <th>1</th>\n",
              "      <td>2</td>\n",
              "      <td>0</td>\n",
              "      <td>@user @user thanks for #lyft credit i can't use cause they don't offer wheelchair vans in pdx.    #disapointed #getthanked</td>\n",
              "      <td>thanks for #lyft credit i can't use cause they don't offer wheelchair vans in pdx.    #disapointed #getthanked</td>\n",
              "      <td>thanks for #lyft credit i cant use cause they don't offer wheelchair vans in pdx.    #disapointed #getthanked</td>\n",
              "      <td>thanks for #lyft credit i can not use cause they don't offer wheelchair vans in pdx.    #disapointed #getthanked</td>\n",
              "      <td>thanks for #lyft credit i can not use cause they don't offer wheelchair vans in pdx.    #disapointed #getthanked</td>\n",
              "    </tr>\n",
              "    <tr>\n",
              "      <th>2</th>\n",
              "      <td>3</td>\n",
              "      <td>0</td>\n",
              "      <td>bihday your majesty</td>\n",
              "      <td>bihday your majesty</td>\n",
              "      <td>bihday your majesty</td>\n",
              "      <td>bihday your majesty</td>\n",
              "      <td>bihday your majesty</td>\n",
              "    </tr>\n",
              "    <tr>\n",
              "      <th>3</th>\n",
              "      <td>4</td>\n",
              "      <td>0</td>\n",
              "      <td>#model   i love u take with u all the time in urð±!!! ððððð¦ð¦ð¦</td>\n",
              "      <td>#model   i love u take with u all the time in urð±!!! ððððð¦ð¦ð¦</td>\n",
              "      <td>#model   i love u take with u all the time in urð±!!! ððððð¦ð¦ð¦</td>\n",
              "      <td>#model   i love u take with u all the time in urð±!!! ððððð¦ð¦ð¦</td>\n",
              "      <td>#model   i love u take with u all the time in urð±!!! ððððð¦ð¦ð¦</td>\n",
              "    </tr>\n",
              "    <tr>\n",
              "      <th>4</th>\n",
              "      <td>5</td>\n",
              "      <td>0</td>\n",
              "      <td>factsguide: society now    #motivation</td>\n",
              "      <td>factsguide: society now    #motivation</td>\n",
              "      <td>factsguide: society now    #motivation</td>\n",
              "      <td>factsguide: society now    #motivation</td>\n",
              "      <td>factsguide: society now    #motivation</td>\n",
              "    </tr>\n",
              "    <tr>\n",
              "      <th>...</th>\n",
              "      <td>...</td>\n",
              "      <td>...</td>\n",
              "      <td>...</td>\n",
              "      <td>...</td>\n",
              "      <td>...</td>\n",
              "      <td>...</td>\n",
              "      <td>...</td>\n",
              "    </tr>\n",
              "    <tr>\n",
              "      <th>31957</th>\n",
              "      <td>31958</td>\n",
              "      <td>0</td>\n",
              "      <td>ate @user isz that youuu?ðððððððððâ¤ï¸</td>\n",
              "      <td>ate  isz that youuu?ðððððððððâ¤ï¸</td>\n",
              "      <td>ate  isz that youuu?ðððððððððâ¤ï¸</td>\n",
              "      <td>ate  isz that youuu?ðððððððððâ¤ï¸</td>\n",
              "      <td>ate  isz that youuu?ðððððððððâ¤ï¸</td>\n",
              "    </tr>\n",
              "    <tr>\n",
              "      <th>31958</th>\n",
              "      <td>31959</td>\n",
              "      <td>0</td>\n",
              "      <td>to see nina turner on the airwaves trying to wrap herself in the mantle of a genuine hero like shirley chisolm. #shame #imwithher</td>\n",
              "      <td>to see nina turner on the airwaves trying to wrap herself in the mantle of a genuine hero like shirley chisolm. #shame #imwithher</td>\n",
              "      <td>to see nina turner on the airwaves trying to wrap herself in the mantle of a genuine hero like shirley chisolm. #shame #imwithher</td>\n",
              "      <td>to see nina turner on the airwaves trying to wrap herself in the mantle of a genuine hero like shirley chisolm. #shame #imwithher</td>\n",
              "      <td>to see nina turner on the airwaves trying to wrap herself in the mantle of a genuine hero like shirley chisolm. #shame #imwithher</td>\n",
              "    </tr>\n",
              "    <tr>\n",
              "      <th>31959</th>\n",
              "      <td>31960</td>\n",
              "      <td>0</td>\n",
              "      <td>listening to sad songs on a monday morning otw to work is sad</td>\n",
              "      <td>listening to sad songs on a monday morning otw to work is sad</td>\n",
              "      <td>listening to sad songs on a monday morning otw to work is sad</td>\n",
              "      <td>listening to sad songs on a monday morning otw to work is sad</td>\n",
              "      <td>listening to sad songs on a monday morning otw to work is sad</td>\n",
              "    </tr>\n",
              "    <tr>\n",
              "      <th>31960</th>\n",
              "      <td>31961</td>\n",
              "      <td>1</td>\n",
              "      <td>@user #sikh #temple vandalised in in #calgary, #wso condemns  act</td>\n",
              "      <td>#sikh #temple vandalised in in #calgary, #wso condemns  act</td>\n",
              "      <td>#sikh #temple vandalised in in #calgary, #wso condemns  act</td>\n",
              "      <td>#sikh #temple vandalised in in #calgary, #wso condemns  act</td>\n",
              "      <td>#sikh #temple vandalised in in #calgary, #wso condemns  act</td>\n",
              "    </tr>\n",
              "    <tr>\n",
              "      <th>31961</th>\n",
              "      <td>31962</td>\n",
              "      <td>0</td>\n",
              "      <td>thank you @user for you follow</td>\n",
              "      <td>thank you  for you follow</td>\n",
              "      <td>thank you  for you follow</td>\n",
              "      <td>thank you  for you follow</td>\n",
              "      <td>thank you  for you follow</td>\n",
              "    </tr>\n",
              "  </tbody>\n",
              "</table>\n",
              "<p>31962 rows × 7 columns</p>\n",
              "</div>"
            ],
            "text/plain": [
              "          id  ...                                                                                                                        tweet_wo_emot\n",
              "0          1  ...                                      when a father is dysfunctional and is so selfish he drags his kids into his dysfunction.   #run\n",
              "1          2  ...                     thanks for #lyft credit i can not use cause they don't offer wheelchair vans in pdx.    #disapointed #getthanked\n",
              "2          3  ...                                                                                                                  bihday your majesty\n",
              "3          4  ...                                               #model   i love u take with u all the time in urð±!!! ðððð\n",
              "ð¦ð¦ð¦  \n",
              "4          5  ...                                                                                               factsguide: society now    #motivation\n",
              "...      ...  ...                                                                                                                                  ...\n",
              "31957  31958  ...                                                                      ate  isz that youuu?ðððððððððâ¤ï¸ \n",
              "31958  31959  ...    to see nina turner on the airwaves trying to wrap herself in the mantle of a genuine hero like shirley chisolm. #shame #imwithher\n",
              "31959  31960  ...                                                                      listening to sad songs on a monday morning otw to work is sad  \n",
              "31960  31961  ...                                                                        #sikh #temple vandalised in in #calgary, #wso condemns  act  \n",
              "31961  31962  ...                                                                                                          thank you  for you follow  \n",
              "\n",
              "[31962 rows x 7 columns]"
            ]
          },
          "metadata": {
            "tags": []
          },
          "execution_count": 19
        }
      ]
    },
    {
      "cell_type": "code",
      "metadata": {
        "id": "1TP9jjM1FRke"
      },
      "source": [
        "#Заменим пунктуацию на пробелы, используя re.sub() и паттерн r'[^\\w\\s]'.\n",
        "#Заменим спец. символы на пробелы, используя re.sub() и паттерн r'[^a-zA-Z0-9]'.\n",
        "#Заменим числа на пробелы, используя re.sub() и паттерн r'[^a-zA-Z]'.\n",
        "# То есть удалим все небуквенные символы\n",
        "\n",
        "regex2 = re.compile( r'[^\\w\\s]')\n",
        "\n",
        "def wo_punct(text, regex=regex2):\n",
        "    return re.sub(regex, ' ', text)\n",
        "\n",
        "regex3 = re.compile( r'[^a-zA-Z0-9]')\n",
        "\n",
        "def wo_spec(text, regex=regex3):\n",
        "    return re.sub(regex, ' ', text)\n",
        "\n",
        "regex4 = re.compile( r'[^a-zA-Z]')\n",
        "\n",
        "def wo_numb(text, regex=regex4):\n",
        "    return re.sub(regex, ' ', text)"
      ],
      "execution_count": 21,
      "outputs": []
    },
    {
      "cell_type": "code",
      "metadata": {
        "id": "iGD9o9myF2R3"
      },
      "source": [
        "def fr_w_only_alphabet(frame, func, where, what):\n",
        "    frame[what] = None\n",
        "    for i in range(0, frame.shape[0]):\n",
        "        frame[what][i] = func(frame[where][i])\n",
        "    return frame"
      ],
      "execution_count": 22,
      "outputs": []
    },
    {
      "cell_type": "code",
      "metadata": {
        "colab": {
          "base_uri": "https://localhost:8080/"
        },
        "id": "H-qoCa_eGIv2",
        "outputId": "1407a9e6-1d4d-42fb-905b-c4caacfcc62d"
      },
      "source": [
        "data_train = fr_w_only_alphabet(data_train, wo_punct, 'tweet_wo_emot', 'tweet_wo_punct')\n",
        "data_train = fr_w_only_alphabet(data_train, wo_spec, 'tweet_wo_punct', 'tweet_wo_spec')\n",
        "data_train = fr_w_only_alphabet(data_train, wo_numb, 'tweet_wo_spec', 'tweet_wo_anything')\n"
      ],
      "execution_count": 23,
      "outputs": [
        {
          "output_type": "stream",
          "text": [
            "/usr/local/lib/python3.7/dist-packages/ipykernel_launcher.py:4: SettingWithCopyWarning: \n",
            "A value is trying to be set on a copy of a slice from a DataFrame\n",
            "\n",
            "See the caveats in the documentation: https://pandas.pydata.org/pandas-docs/stable/user_guide/indexing.html#returning-a-view-versus-a-copy\n",
            "  after removing the cwd from sys.path.\n"
          ],
          "name": "stderr"
        }
      ]
    },
    {
      "cell_type": "code",
      "metadata": {
        "colab": {
          "base_uri": "https://localhost:8080/",
          "height": 1000
        },
        "id": "qpi55PIAI2L3",
        "outputId": "6d291fdb-ee1a-4b8c-ef29-46ed9ea1b2a3"
      },
      "source": [
        "data_train"
      ],
      "execution_count": 116,
      "outputs": [
        {
          "output_type": "execute_result",
          "data": {
            "text/html": [
              "<div>\n",
              "<style scoped>\n",
              "    .dataframe tbody tr th:only-of-type {\n",
              "        vertical-align: middle;\n",
              "    }\n",
              "\n",
              "    .dataframe tbody tr th {\n",
              "        vertical-align: top;\n",
              "    }\n",
              "\n",
              "    .dataframe thead th {\n",
              "        text-align: right;\n",
              "    }\n",
              "</style>\n",
              "<table border=\"1\" class=\"dataframe\">\n",
              "  <thead>\n",
              "    <tr style=\"text-align: right;\">\n",
              "      <th></th>\n",
              "      <th>id</th>\n",
              "      <th>label</th>\n",
              "      <th>tweet</th>\n",
              "      <th>tweet_wo_mention</th>\n",
              "      <th>tweet_wo_apostr</th>\n",
              "      <th>tweet_wo_short</th>\n",
              "      <th>tweet_wo_emot</th>\n",
              "      <th>tweet_wo_anything</th>\n",
              "      <th>tweet_wo_punct</th>\n",
              "      <th>tweet_wo_spec</th>\n",
              "    </tr>\n",
              "  </thead>\n",
              "  <tbody>\n",
              "    <tr>\n",
              "      <th>0</th>\n",
              "      <td>1</td>\n",
              "      <td>0</td>\n",
              "      <td>@user when a father is dysfunctional and is so selfish he drags his kids into his dysfunction.   #run</td>\n",
              "      <td>when a father is dysfunctional and is so selfish he drags his kids into his dysfunction.   #run</td>\n",
              "      <td>when a father is dysfunctional and is so selfish he drags his kids into his dysfunction.   #run</td>\n",
              "      <td>when a father is dysfunctional and is so selfish he drags his kids into his dysfunction.   #run</td>\n",
              "      <td>when a father is dysfunctional and is so selfish he drags his kids into his dysfunction.   #run</td>\n",
              "      <td>when a father is dysfunctional and is so selfish he drags his kids into his dysfunction     run</td>\n",
              "      <td>when a father is dysfunctional and is so selfish he drags his kids into his dysfunction     run</td>\n",
              "      <td>when a father is dysfunctional and is so selfish he drags his kids into his dysfunction     run</td>\n",
              "    </tr>\n",
              "    <tr>\n",
              "      <th>1</th>\n",
              "      <td>2</td>\n",
              "      <td>0</td>\n",
              "      <td>@user @user thanks for #lyft credit i can't use cause they don't offer wheelchair vans in pdx.    #disapointed #getthanked</td>\n",
              "      <td>thanks for #lyft credit i can't use cause they don't offer wheelchair vans in pdx.    #disapointed #getthanked</td>\n",
              "      <td>thanks for #lyft credit i cant use cause they don't offer wheelchair vans in pdx.    #disapointed #getthanked</td>\n",
              "      <td>thanks for #lyft credit i can not use cause they don't offer wheelchair vans in pdx.    #disapointed #getthanked</td>\n",
              "      <td>thanks for #lyft credit i can not use cause they don't offer wheelchair vans in pdx.    #disapointed #getthanked</td>\n",
              "      <td>thanks for  lyft credit i can not use cause they don t offer wheelchair vans in pdx      disapointed  getthanked</td>\n",
              "      <td>thanks for  lyft credit i can not use cause they don t offer wheelchair vans in pdx      disapointed  getthanked</td>\n",
              "      <td>thanks for  lyft credit i can not use cause they don t offer wheelchair vans in pdx      disapointed  getthanked</td>\n",
              "    </tr>\n",
              "    <tr>\n",
              "      <th>2</th>\n",
              "      <td>3</td>\n",
              "      <td>0</td>\n",
              "      <td>bihday your majesty</td>\n",
              "      <td>bihday your majesty</td>\n",
              "      <td>bihday your majesty</td>\n",
              "      <td>bihday your majesty</td>\n",
              "      <td>bihday your majesty</td>\n",
              "      <td>bihday your majesty</td>\n",
              "      <td>bihday your majesty</td>\n",
              "      <td>bihday your majesty</td>\n",
              "    </tr>\n",
              "    <tr>\n",
              "      <th>3</th>\n",
              "      <td>4</td>\n",
              "      <td>0</td>\n",
              "      <td>#model   i love u take with u all the time in urð±!!! ððððð¦ð¦ð¦</td>\n",
              "      <td>#model   i love u take with u all the time in urð±!!! ððððð¦ð¦ð¦</td>\n",
              "      <td>#model   i love u take with u all the time in urð±!!! ððððð¦ð¦ð¦</td>\n",
              "      <td>#model   i love u take with u all the time in urð±!!! ððððð¦ð¦ð¦</td>\n",
              "      <td>#model   i love u take with u all the time in urð±!!! ððððð¦ð¦ð¦</td>\n",
              "      <td>model   i love u take with u all the time in ur</td>\n",
              "      <td>model   i love u take with u all the time in urð       ð   ð   ð   ð  ð   ð   ð</td>\n",
              "      <td>model   i love u take with u all the time in ur</td>\n",
              "    </tr>\n",
              "    <tr>\n",
              "      <th>4</th>\n",
              "      <td>5</td>\n",
              "      <td>0</td>\n",
              "      <td>factsguide: society now    #motivation</td>\n",
              "      <td>factsguide: society now    #motivation</td>\n",
              "      <td>factsguide: society now    #motivation</td>\n",
              "      <td>factsguide: society now    #motivation</td>\n",
              "      <td>factsguide: society now    #motivation</td>\n",
              "      <td>factsguide  society now     motivation</td>\n",
              "      <td>factsguide  society now     motivation</td>\n",
              "      <td>factsguide  society now     motivation</td>\n",
              "    </tr>\n",
              "    <tr>\n",
              "      <th>...</th>\n",
              "      <td>...</td>\n",
              "      <td>...</td>\n",
              "      <td>...</td>\n",
              "      <td>...</td>\n",
              "      <td>...</td>\n",
              "      <td>...</td>\n",
              "      <td>...</td>\n",
              "      <td>...</td>\n",
              "      <td>...</td>\n",
              "      <td>...</td>\n",
              "    </tr>\n",
              "    <tr>\n",
              "      <th>31957</th>\n",
              "      <td>31958</td>\n",
              "      <td>0</td>\n",
              "      <td>ate @user isz that youuu?ðððððððððâ¤ï¸</td>\n",
              "      <td>ate  isz that youuu?ðððððððððâ¤ï¸</td>\n",
              "      <td>ate  isz that youuu?ðððððððððâ¤ï¸</td>\n",
              "      <td>ate  isz that youuu?ðððððððððâ¤ï¸</td>\n",
              "      <td>ate  isz that youuu?ðððððððððâ¤ï¸</td>\n",
              "      <td>ate  isz that youuu</td>\n",
              "      <td>ate  isz that youuu ð   ð   ð   ð   ð   ð   ð   ð   ð   â  ï</td>\n",
              "      <td>ate  isz that youuu</td>\n",
              "    </tr>\n",
              "    <tr>\n",
              "      <th>31958</th>\n",
              "      <td>31959</td>\n",
              "      <td>0</td>\n",
              "      <td>to see nina turner on the airwaves trying to wrap herself in the mantle of a genuine hero like shirley chisolm. #shame #imwithher</td>\n",
              "      <td>to see nina turner on the airwaves trying to wrap herself in the mantle of a genuine hero like shirley chisolm. #shame #imwithher</td>\n",
              "      <td>to see nina turner on the airwaves trying to wrap herself in the mantle of a genuine hero like shirley chisolm. #shame #imwithher</td>\n",
              "      <td>to see nina turner on the airwaves trying to wrap herself in the mantle of a genuine hero like shirley chisolm. #shame #imwithher</td>\n",
              "      <td>to see nina turner on the airwaves trying to wrap herself in the mantle of a genuine hero like shirley chisolm. #shame #imwithher</td>\n",
              "      <td>to see nina turner on the airwaves trying to wrap herself in the mantle of a genuine hero like shirley chisolm   shame  imwithher</td>\n",
              "      <td>to see nina turner on the airwaves trying to wrap herself in the mantle of a genuine hero like shirley chisolm   shame  imwithher</td>\n",
              "      <td>to see nina turner on the airwaves trying to wrap herself in the mantle of a genuine hero like shirley chisolm   shame  imwithher</td>\n",
              "    </tr>\n",
              "    <tr>\n",
              "      <th>31959</th>\n",
              "      <td>31960</td>\n",
              "      <td>0</td>\n",
              "      <td>listening to sad songs on a monday morning otw to work is sad</td>\n",
              "      <td>listening to sad songs on a monday morning otw to work is sad</td>\n",
              "      <td>listening to sad songs on a monday morning otw to work is sad</td>\n",
              "      <td>listening to sad songs on a monday morning otw to work is sad</td>\n",
              "      <td>listening to sad songs on a monday morning otw to work is sad</td>\n",
              "      <td>listening to sad songs on a monday morning otw to work is sad</td>\n",
              "      <td>listening to sad songs on a monday morning otw to work is sad</td>\n",
              "      <td>listening to sad songs on a monday morning otw to work is sad</td>\n",
              "    </tr>\n",
              "    <tr>\n",
              "      <th>31960</th>\n",
              "      <td>31961</td>\n",
              "      <td>1</td>\n",
              "      <td>@user #sikh #temple vandalised in in #calgary, #wso condemns  act</td>\n",
              "      <td>#sikh #temple vandalised in in #calgary, #wso condemns  act</td>\n",
              "      <td>#sikh #temple vandalised in in #calgary, #wso condemns  act</td>\n",
              "      <td>#sikh #temple vandalised in in #calgary, #wso condemns  act</td>\n",
              "      <td>#sikh #temple vandalised in in #calgary, #wso condemns  act</td>\n",
              "      <td>sikh  temple vandalised in in  calgary   wso condemns  act</td>\n",
              "      <td>sikh  temple vandalised in in  calgary   wso condemns  act</td>\n",
              "      <td>sikh  temple vandalised in in  calgary   wso condemns  act</td>\n",
              "    </tr>\n",
              "    <tr>\n",
              "      <th>31961</th>\n",
              "      <td>31962</td>\n",
              "      <td>0</td>\n",
              "      <td>thank you @user for you follow</td>\n",
              "      <td>thank you  for you follow</td>\n",
              "      <td>thank you  for you follow</td>\n",
              "      <td>thank you  for you follow</td>\n",
              "      <td>thank you  for you follow</td>\n",
              "      <td>thank you  for you follow</td>\n",
              "      <td>thank you  for you follow</td>\n",
              "      <td>thank you  for you follow</td>\n",
              "    </tr>\n",
              "  </tbody>\n",
              "</table>\n",
              "<p>31962 rows × 10 columns</p>\n",
              "</div>"
            ],
            "text/plain": [
              "          id  ...                                                                                                                        tweet_wo_spec\n",
              "0          1  ...                                      when a father is dysfunctional and is so selfish he drags his kids into his dysfunction     run\n",
              "1          2  ...                     thanks for  lyft credit i can not use cause they don t offer wheelchair vans in pdx      disapointed  getthanked\n",
              "2          3  ...                                                                                                                  bihday your majesty\n",
              "3          4  ...                                                model   i love u take with u all the time in ur                                      \n",
              "4          5  ...                                                                                               factsguide  society now     motivation\n",
              "...      ...  ...                                                                                                                                  ...\n",
              "31957  31958  ...                                                                      ate  isz that youuu                                            \n",
              "31958  31959  ...    to see nina turner on the airwaves trying to wrap herself in the mantle of a genuine hero like shirley chisolm   shame  imwithher\n",
              "31959  31960  ...                                                                      listening to sad songs on a monday morning otw to work is sad  \n",
              "31960  31961  ...                                                                         sikh  temple vandalised in in  calgary   wso condemns  act  \n",
              "31961  31962  ...                                                                                                          thank you  for you follow  \n",
              "\n",
              "[31962 rows x 10 columns]"
            ]
          },
          "metadata": {
            "tags": []
          },
          "execution_count": 116
        }
      ]
    },
    {
      "cell_type": "code",
      "metadata": {
        "id": "wF3Xxms7JZgh"
      },
      "source": [
        "' '.join([w for w in x.split() if len(w)>1])"
      ],
      "execution_count": null,
      "outputs": []
    },
    {
      "cell_type": "code",
      "metadata": {
        "id": "iZGTuEzoJfcW"
      },
      "source": [
        "def fr_wo_words(frame):\n",
        "    frame['fine'] = None\n",
        "    for i in range(0, frame.shape[0]):\n",
        "        text = frame['tweet_wo_anything'][i] \n",
        "        frame['fine'][i] = ' '.join([w for w in text.split() if len(w)>1])\n",
        "    return frame"
      ],
      "execution_count": 24,
      "outputs": []
    },
    {
      "cell_type": "code",
      "metadata": {
        "colab": {
          "base_uri": "https://localhost:8080/"
        },
        "id": "iX7dicxIJv1g",
        "outputId": "821c63e2-f96a-4b96-e6a5-8b6d40fc24c8"
      },
      "source": [
        "data_train = fr_wo_words(data_train)"
      ],
      "execution_count": 25,
      "outputs": [
        {
          "output_type": "stream",
          "text": [
            "/usr/local/lib/python3.7/dist-packages/ipykernel_launcher.py:5: SettingWithCopyWarning: \n",
            "A value is trying to be set on a copy of a slice from a DataFrame\n",
            "\n",
            "See the caveats in the documentation: https://pandas.pydata.org/pandas-docs/stable/user_guide/indexing.html#returning-a-view-versus-a-copy\n",
            "  \"\"\"\n"
          ],
          "name": "stderr"
        }
      ]
    },
    {
      "cell_type": "code",
      "metadata": {
        "colab": {
          "base_uri": "https://localhost:8080/",
          "height": 1000
        },
        "id": "2sKEQaHrq3Bt",
        "outputId": "97752a1b-1804-413a-c03b-ee4eb1920be2"
      },
      "source": [
        "data_train"
      ],
      "execution_count": 26,
      "outputs": [
        {
          "output_type": "execute_result",
          "data": {
            "text/html": [
              "<div>\n",
              "<style scoped>\n",
              "    .dataframe tbody tr th:only-of-type {\n",
              "        vertical-align: middle;\n",
              "    }\n",
              "\n",
              "    .dataframe tbody tr th {\n",
              "        vertical-align: top;\n",
              "    }\n",
              "\n",
              "    .dataframe thead th {\n",
              "        text-align: right;\n",
              "    }\n",
              "</style>\n",
              "<table border=\"1\" class=\"dataframe\">\n",
              "  <thead>\n",
              "    <tr style=\"text-align: right;\">\n",
              "      <th></th>\n",
              "      <th>id</th>\n",
              "      <th>label</th>\n",
              "      <th>tweet</th>\n",
              "      <th>tweet_wo_mention</th>\n",
              "      <th>tweet_wo_apostr</th>\n",
              "      <th>tweet_wo_short</th>\n",
              "      <th>tweet_wo_emot</th>\n",
              "      <th>tweet_wo_punct</th>\n",
              "      <th>tweet_wo_spec</th>\n",
              "      <th>tweet_wo_anything</th>\n",
              "      <th>fine</th>\n",
              "    </tr>\n",
              "  </thead>\n",
              "  <tbody>\n",
              "    <tr>\n",
              "      <th>0</th>\n",
              "      <td>1</td>\n",
              "      <td>0</td>\n",
              "      <td>@user when a father is dysfunctional and is so selfish he drags his kids into his dysfunction.   #run</td>\n",
              "      <td>when a father is dysfunctional and is so selfish he drags his kids into his dysfunction.   #run</td>\n",
              "      <td>when a father is dysfunctional and is so selfish he drags his kids into his dysfunction.   #run</td>\n",
              "      <td>when a father is dysfunctional and is so selfish he drags his kids into his dysfunction.   #run</td>\n",
              "      <td>when a father is dysfunctional and is so selfish he drags his kids into his dysfunction.   #run</td>\n",
              "      <td>when a father is dysfunctional and is so selfish he drags his kids into his dysfunction     run</td>\n",
              "      <td>when a father is dysfunctional and is so selfish he drags his kids into his dysfunction     run</td>\n",
              "      <td>when a father is dysfunctional and is so selfish he drags his kids into his dysfunction     run</td>\n",
              "      <td>when father is dysfunctional and is so selfish he drags his kids into his dysfunction run</td>\n",
              "    </tr>\n",
              "    <tr>\n",
              "      <th>1</th>\n",
              "      <td>2</td>\n",
              "      <td>0</td>\n",
              "      <td>@user @user thanks for #lyft credit i can't use cause they don't offer wheelchair vans in pdx.    #disapointed #getthanked</td>\n",
              "      <td>thanks for #lyft credit i can't use cause they don't offer wheelchair vans in pdx.    #disapointed #getthanked</td>\n",
              "      <td>thanks for #lyft credit i cant use cause they don't offer wheelchair vans in pdx.    #disapointed #getthanked</td>\n",
              "      <td>thanks for #lyft credit i can not use cause they don't offer wheelchair vans in pdx.    #disapointed #getthanked</td>\n",
              "      <td>thanks for #lyft credit i can not use cause they don't offer wheelchair vans in pdx.    #disapointed #getthanked</td>\n",
              "      <td>thanks for  lyft credit i can not use cause they don t offer wheelchair vans in pdx      disapointed  getthanked</td>\n",
              "      <td>thanks for  lyft credit i can not use cause they don t offer wheelchair vans in pdx      disapointed  getthanked</td>\n",
              "      <td>thanks for  lyft credit i can not use cause they don t offer wheelchair vans in pdx      disapointed  getthanked</td>\n",
              "      <td>thanks for lyft credit can not use cause they don offer wheelchair vans in pdx disapointed getthanked</td>\n",
              "    </tr>\n",
              "    <tr>\n",
              "      <th>2</th>\n",
              "      <td>3</td>\n",
              "      <td>0</td>\n",
              "      <td>bihday your majesty</td>\n",
              "      <td>bihday your majesty</td>\n",
              "      <td>bihday your majesty</td>\n",
              "      <td>bihday your majesty</td>\n",
              "      <td>bihday your majesty</td>\n",
              "      <td>bihday your majesty</td>\n",
              "      <td>bihday your majesty</td>\n",
              "      <td>bihday your majesty</td>\n",
              "      <td>bihday your majesty</td>\n",
              "    </tr>\n",
              "    <tr>\n",
              "      <th>3</th>\n",
              "      <td>4</td>\n",
              "      <td>0</td>\n",
              "      <td>#model   i love u take with u all the time in urð±!!! ððððð¦ð¦ð¦</td>\n",
              "      <td>#model   i love u take with u all the time in urð±!!! ððððð¦ð¦ð¦</td>\n",
              "      <td>#model   i love u take with u all the time in urð±!!! ððððð¦ð¦ð¦</td>\n",
              "      <td>#model   i love u take with u all the time in urð±!!! ððððð¦ð¦ð¦</td>\n",
              "      <td>#model   i love u take with u all the time in urð±!!! ððððð¦ð¦ð¦</td>\n",
              "      <td>model   i love u take with u all the time in urð       ð   ð   ð   ð  ð   ð   ð</td>\n",
              "      <td>model   i love u take with u all the time in ur</td>\n",
              "      <td>model   i love u take with u all the time in ur</td>\n",
              "      <td>model love take with all the time in ur</td>\n",
              "    </tr>\n",
              "    <tr>\n",
              "      <th>4</th>\n",
              "      <td>5</td>\n",
              "      <td>0</td>\n",
              "      <td>factsguide: society now    #motivation</td>\n",
              "      <td>factsguide: society now    #motivation</td>\n",
              "      <td>factsguide: society now    #motivation</td>\n",
              "      <td>factsguide: society now    #motivation</td>\n",
              "      <td>factsguide: society now    #motivation</td>\n",
              "      <td>factsguide  society now     motivation</td>\n",
              "      <td>factsguide  society now     motivation</td>\n",
              "      <td>factsguide  society now     motivation</td>\n",
              "      <td>factsguide society now motivation</td>\n",
              "    </tr>\n",
              "    <tr>\n",
              "      <th>...</th>\n",
              "      <td>...</td>\n",
              "      <td>...</td>\n",
              "      <td>...</td>\n",
              "      <td>...</td>\n",
              "      <td>...</td>\n",
              "      <td>...</td>\n",
              "      <td>...</td>\n",
              "      <td>...</td>\n",
              "      <td>...</td>\n",
              "      <td>...</td>\n",
              "      <td>...</td>\n",
              "    </tr>\n",
              "    <tr>\n",
              "      <th>31957</th>\n",
              "      <td>31958</td>\n",
              "      <td>0</td>\n",
              "      <td>ate @user isz that youuu?ðððððððððâ¤ï¸</td>\n",
              "      <td>ate  isz that youuu?ðððððððððâ¤ï¸</td>\n",
              "      <td>ate  isz that youuu?ðððððððððâ¤ï¸</td>\n",
              "      <td>ate  isz that youuu?ðððððððððâ¤ï¸</td>\n",
              "      <td>ate  isz that youuu?ðððððððððâ¤ï¸</td>\n",
              "      <td>ate  isz that youuu ð   ð   ð   ð   ð   ð   ð   ð   ð   â  ï</td>\n",
              "      <td>ate  isz that youuu</td>\n",
              "      <td>ate  isz that youuu</td>\n",
              "      <td>ate isz that youuu</td>\n",
              "    </tr>\n",
              "    <tr>\n",
              "      <th>31958</th>\n",
              "      <td>31959</td>\n",
              "      <td>0</td>\n",
              "      <td>to see nina turner on the airwaves trying to wrap herself in the mantle of a genuine hero like shirley chisolm. #shame #imwithher</td>\n",
              "      <td>to see nina turner on the airwaves trying to wrap herself in the mantle of a genuine hero like shirley chisolm. #shame #imwithher</td>\n",
              "      <td>to see nina turner on the airwaves trying to wrap herself in the mantle of a genuine hero like shirley chisolm. #shame #imwithher</td>\n",
              "      <td>to see nina turner on the airwaves trying to wrap herself in the mantle of a genuine hero like shirley chisolm. #shame #imwithher</td>\n",
              "      <td>to see nina turner on the airwaves trying to wrap herself in the mantle of a genuine hero like shirley chisolm. #shame #imwithher</td>\n",
              "      <td>to see nina turner on the airwaves trying to wrap herself in the mantle of a genuine hero like shirley chisolm   shame  imwithher</td>\n",
              "      <td>to see nina turner on the airwaves trying to wrap herself in the mantle of a genuine hero like shirley chisolm   shame  imwithher</td>\n",
              "      <td>to see nina turner on the airwaves trying to wrap herself in the mantle of a genuine hero like shirley chisolm   shame  imwithher</td>\n",
              "      <td>to see nina turner on the airwaves trying to wrap herself in the mantle of genuine hero like shirley chisolm shame imwithher</td>\n",
              "    </tr>\n",
              "    <tr>\n",
              "      <th>31959</th>\n",
              "      <td>31960</td>\n",
              "      <td>0</td>\n",
              "      <td>listening to sad songs on a monday morning otw to work is sad</td>\n",
              "      <td>listening to sad songs on a monday morning otw to work is sad</td>\n",
              "      <td>listening to sad songs on a monday morning otw to work is sad</td>\n",
              "      <td>listening to sad songs on a monday morning otw to work is sad</td>\n",
              "      <td>listening to sad songs on a monday morning otw to work is sad</td>\n",
              "      <td>listening to sad songs on a monday morning otw to work is sad</td>\n",
              "      <td>listening to sad songs on a monday morning otw to work is sad</td>\n",
              "      <td>listening to sad songs on a monday morning otw to work is sad</td>\n",
              "      <td>listening to sad songs on monday morning otw to work is sad</td>\n",
              "    </tr>\n",
              "    <tr>\n",
              "      <th>31960</th>\n",
              "      <td>31961</td>\n",
              "      <td>1</td>\n",
              "      <td>@user #sikh #temple vandalised in in #calgary, #wso condemns  act</td>\n",
              "      <td>#sikh #temple vandalised in in #calgary, #wso condemns  act</td>\n",
              "      <td>#sikh #temple vandalised in in #calgary, #wso condemns  act</td>\n",
              "      <td>#sikh #temple vandalised in in #calgary, #wso condemns  act</td>\n",
              "      <td>#sikh #temple vandalised in in #calgary, #wso condemns  act</td>\n",
              "      <td>sikh  temple vandalised in in  calgary   wso condemns  act</td>\n",
              "      <td>sikh  temple vandalised in in  calgary   wso condemns  act</td>\n",
              "      <td>sikh  temple vandalised in in  calgary   wso condemns  act</td>\n",
              "      <td>sikh temple vandalised in in calgary wso condemns act</td>\n",
              "    </tr>\n",
              "    <tr>\n",
              "      <th>31961</th>\n",
              "      <td>31962</td>\n",
              "      <td>0</td>\n",
              "      <td>thank you @user for you follow</td>\n",
              "      <td>thank you  for you follow</td>\n",
              "      <td>thank you  for you follow</td>\n",
              "      <td>thank you  for you follow</td>\n",
              "      <td>thank you  for you follow</td>\n",
              "      <td>thank you  for you follow</td>\n",
              "      <td>thank you  for you follow</td>\n",
              "      <td>thank you  for you follow</td>\n",
              "      <td>thank you for you follow</td>\n",
              "    </tr>\n",
              "  </tbody>\n",
              "</table>\n",
              "<p>31962 rows × 11 columns</p>\n",
              "</div>"
            ],
            "text/plain": [
              "          id  ...                                                                                                                          fine\n",
              "0          1  ...                                     when father is dysfunctional and is so selfish he drags his kids into his dysfunction run\n",
              "1          2  ...                         thanks for lyft credit can not use cause they don offer wheelchair vans in pdx disapointed getthanked\n",
              "2          3  ...                                                                                                           bihday your majesty\n",
              "3          4  ...                                                                                       model love take with all the time in ur\n",
              "4          5  ...                                                                                             factsguide society now motivation\n",
              "...      ...  ...                                                                                                                           ...\n",
              "31957  31958  ...                                                                                                            ate isz that youuu\n",
              "31958  31959  ...  to see nina turner on the airwaves trying to wrap herself in the mantle of genuine hero like shirley chisolm shame imwithher\n",
              "31959  31960  ...                                                                   listening to sad songs on monday morning otw to work is sad\n",
              "31960  31961  ...                                                                         sikh temple vandalised in in calgary wso condemns act\n",
              "31961  31962  ...                                                                                                      thank you for you follow\n",
              "\n",
              "[31962 rows x 11 columns]"
            ]
          },
          "metadata": {
            "tags": []
          },
          "execution_count": 26
        }
      ]
    },
    {
      "cell_type": "code",
      "metadata": {
        "id": "LxtxMLeNrDgs"
      },
      "source": [
        "from nltk.tokenize import word_tokenize\n",
        "from nltk import tokenize as tknz"
      ],
      "execution_count": 29,
      "outputs": []
    },
    {
      "cell_type": "code",
      "metadata": {
        "colab": {
          "base_uri": "https://localhost:8080/"
        },
        "id": "2SwYu1oxsYuz",
        "outputId": "afc1f596-1326-46f6-9222-8ddb28cc55c0"
      },
      "source": [
        "import nltk\n",
        "nltk.download('punkt')"
      ],
      "execution_count": 36,
      "outputs": [
        {
          "output_type": "stream",
          "text": [
            "[nltk_data] Downloading package punkt to /root/nltk_data...\n",
            "[nltk_data]   Unzipping tokenizers/punkt.zip.\n"
          ],
          "name": "stdout"
        },
        {
          "output_type": "execute_result",
          "data": {
            "text/plain": [
              "True"
            ]
          },
          "metadata": {
            "tags": []
          },
          "execution_count": 36
        }
      ]
    },
    {
      "cell_type": "code",
      "metadata": {
        "colab": {
          "base_uri": "https://localhost:8080/"
        },
        "id": "EKqvznJwsECP",
        "outputId": "69fdd3a9-752f-4e5a-8eb0-697a16f9db09"
      },
      "source": [
        "tknz.word_tokenize(data_train['fine'][0])"
      ],
      "execution_count": 37,
      "outputs": [
        {
          "output_type": "execute_result",
          "data": {
            "text/plain": [
              "['when',\n",
              " 'father',\n",
              " 'is',\n",
              " 'dysfunctional',\n",
              " 'and',\n",
              " 'is',\n",
              " 'so',\n",
              " 'selfish',\n",
              " 'he',\n",
              " 'drags',\n",
              " 'his',\n",
              " 'kids',\n",
              " 'into',\n",
              " 'his',\n",
              " 'dysfunction',\n",
              " 'run']"
            ]
          },
          "metadata": {
            "tags": []
          },
          "execution_count": 37
        }
      ]
    },
    {
      "cell_type": "code",
      "metadata": {
        "id": "EuLbiHIhrKu4"
      },
      "source": [
        "def do_tokinze(frame):\n",
        "    frame['tokens'] = None\n",
        "    for i in range(0, frame.shape[0]):\n",
        "        text = frame['fine'][i] \n",
        "        frame['tokens'][i] = tknz.word_tokenize(text)\n",
        "    return frame"
      ],
      "execution_count": 30,
      "outputs": []
    },
    {
      "cell_type": "code",
      "metadata": {
        "colab": {
          "base_uri": "https://localhost:8080/"
        },
        "id": "Xvv78Dq1r6xd",
        "outputId": "8aa2eff2-e4b6-464d-8a5a-0e5a9905b0f1"
      },
      "source": [
        "data_train = do_tokinze(data_train)"
      ],
      "execution_count": 38,
      "outputs": [
        {
          "output_type": "stream",
          "text": [
            "/usr/local/lib/python3.7/dist-packages/ipykernel_launcher.py:5: SettingWithCopyWarning: \n",
            "A value is trying to be set on a copy of a slice from a DataFrame\n",
            "\n",
            "See the caveats in the documentation: https://pandas.pydata.org/pandas-docs/stable/user_guide/indexing.html#returning-a-view-versus-a-copy\n",
            "  \"\"\"\n"
          ],
          "name": "stderr"
        }
      ]
    },
    {
      "cell_type": "code",
      "metadata": {
        "colab": {
          "base_uri": "https://localhost:8080/",
          "height": 615
        },
        "id": "Dh-6ghXWsoKV",
        "outputId": "56cf46d3-832b-4dd1-8986-7bfae829016e"
      },
      "source": [
        "data_train.head()"
      ],
      "execution_count": 39,
      "outputs": [
        {
          "output_type": "execute_result",
          "data": {
            "text/html": [
              "<div>\n",
              "<style scoped>\n",
              "    .dataframe tbody tr th:only-of-type {\n",
              "        vertical-align: middle;\n",
              "    }\n",
              "\n",
              "    .dataframe tbody tr th {\n",
              "        vertical-align: top;\n",
              "    }\n",
              "\n",
              "    .dataframe thead th {\n",
              "        text-align: right;\n",
              "    }\n",
              "</style>\n",
              "<table border=\"1\" class=\"dataframe\">\n",
              "  <thead>\n",
              "    <tr style=\"text-align: right;\">\n",
              "      <th></th>\n",
              "      <th>id</th>\n",
              "      <th>label</th>\n",
              "      <th>tweet</th>\n",
              "      <th>tweet_wo_mention</th>\n",
              "      <th>tweet_wo_apostr</th>\n",
              "      <th>tweet_wo_short</th>\n",
              "      <th>tweet_wo_emot</th>\n",
              "      <th>tweet_wo_punct</th>\n",
              "      <th>tweet_wo_spec</th>\n",
              "      <th>tweet_wo_anything</th>\n",
              "      <th>fine</th>\n",
              "      <th>tokens</th>\n",
              "    </tr>\n",
              "  </thead>\n",
              "  <tbody>\n",
              "    <tr>\n",
              "      <th>0</th>\n",
              "      <td>1</td>\n",
              "      <td>0</td>\n",
              "      <td>@user when a father is dysfunctional and is so selfish he drags his kids into his dysfunction.   #run</td>\n",
              "      <td>when a father is dysfunctional and is so selfish he drags his kids into his dysfunction.   #run</td>\n",
              "      <td>when a father is dysfunctional and is so selfish he drags his kids into his dysfunction.   #run</td>\n",
              "      <td>when a father is dysfunctional and is so selfish he drags his kids into his dysfunction.   #run</td>\n",
              "      <td>when a father is dysfunctional and is so selfish he drags his kids into his dysfunction.   #run</td>\n",
              "      <td>when a father is dysfunctional and is so selfish he drags his kids into his dysfunction     run</td>\n",
              "      <td>when a father is dysfunctional and is so selfish he drags his kids into his dysfunction     run</td>\n",
              "      <td>when a father is dysfunctional and is so selfish he drags his kids into his dysfunction     run</td>\n",
              "      <td>when father is dysfunctional and is so selfish he drags his kids into his dysfunction run</td>\n",
              "      <td>[when, father, is, dysfunctional, and, is, so, selfish, he, drags, his, kids, into, his, dysfunction, run]</td>\n",
              "    </tr>\n",
              "    <tr>\n",
              "      <th>1</th>\n",
              "      <td>2</td>\n",
              "      <td>0</td>\n",
              "      <td>@user @user thanks for #lyft credit i can't use cause they don't offer wheelchair vans in pdx.    #disapointed #getthanked</td>\n",
              "      <td>thanks for #lyft credit i can't use cause they don't offer wheelchair vans in pdx.    #disapointed #getthanked</td>\n",
              "      <td>thanks for #lyft credit i cant use cause they don't offer wheelchair vans in pdx.    #disapointed #getthanked</td>\n",
              "      <td>thanks for #lyft credit i can not use cause they don't offer wheelchair vans in pdx.    #disapointed #getthanked</td>\n",
              "      <td>thanks for #lyft credit i can not use cause they don't offer wheelchair vans in pdx.    #disapointed #getthanked</td>\n",
              "      <td>thanks for  lyft credit i can not use cause they don t offer wheelchair vans in pdx      disapointed  getthanked</td>\n",
              "      <td>thanks for  lyft credit i can not use cause they don t offer wheelchair vans in pdx      disapointed  getthanked</td>\n",
              "      <td>thanks for  lyft credit i can not use cause they don t offer wheelchair vans in pdx      disapointed  getthanked</td>\n",
              "      <td>thanks for lyft credit can not use cause they don offer wheelchair vans in pdx disapointed getthanked</td>\n",
              "      <td>[thanks, for, lyft, credit, can, not, use, cause, they, don, offer, wheelchair, vans, in, pdx, disapointed, getthanked]</td>\n",
              "    </tr>\n",
              "    <tr>\n",
              "      <th>2</th>\n",
              "      <td>3</td>\n",
              "      <td>0</td>\n",
              "      <td>bihday your majesty</td>\n",
              "      <td>bihday your majesty</td>\n",
              "      <td>bihday your majesty</td>\n",
              "      <td>bihday your majesty</td>\n",
              "      <td>bihday your majesty</td>\n",
              "      <td>bihday your majesty</td>\n",
              "      <td>bihday your majesty</td>\n",
              "      <td>bihday your majesty</td>\n",
              "      <td>bihday your majesty</td>\n",
              "      <td>[bihday, your, majesty]</td>\n",
              "    </tr>\n",
              "    <tr>\n",
              "      <th>3</th>\n",
              "      <td>4</td>\n",
              "      <td>0</td>\n",
              "      <td>#model   i love u take with u all the time in urð±!!! ððððð¦ð¦ð¦</td>\n",
              "      <td>#model   i love u take with u all the time in urð±!!! ððððð¦ð¦ð¦</td>\n",
              "      <td>#model   i love u take with u all the time in urð±!!! ððððð¦ð¦ð¦</td>\n",
              "      <td>#model   i love u take with u all the time in urð±!!! ððððð¦ð¦ð¦</td>\n",
              "      <td>#model   i love u take with u all the time in urð±!!! ððððð¦ð¦ð¦</td>\n",
              "      <td>model   i love u take with u all the time in urð       ð   ð   ð   ð  ð   ð   ð</td>\n",
              "      <td>model   i love u take with u all the time in ur</td>\n",
              "      <td>model   i love u take with u all the time in ur</td>\n",
              "      <td>model love take with all the time in ur</td>\n",
              "      <td>[model, love, take, with, all, the, time, in, ur]</td>\n",
              "    </tr>\n",
              "    <tr>\n",
              "      <th>4</th>\n",
              "      <td>5</td>\n",
              "      <td>0</td>\n",
              "      <td>factsguide: society now    #motivation</td>\n",
              "      <td>factsguide: society now    #motivation</td>\n",
              "      <td>factsguide: society now    #motivation</td>\n",
              "      <td>factsguide: society now    #motivation</td>\n",
              "      <td>factsguide: society now    #motivation</td>\n",
              "      <td>factsguide  society now     motivation</td>\n",
              "      <td>factsguide  society now     motivation</td>\n",
              "      <td>factsguide  society now     motivation</td>\n",
              "      <td>factsguide society now motivation</td>\n",
              "      <td>[factsguide, society, now, motivation]</td>\n",
              "    </tr>\n",
              "  </tbody>\n",
              "</table>\n",
              "</div>"
            ],
            "text/plain": [
              "   id  ...                                                                                                                   tokens\n",
              "0   1  ...               [when, father, is, dysfunctional, and, is, so, selfish, he, drags, his, kids, into, his, dysfunction, run]\n",
              "1   2  ...  [thanks, for, lyft, credit, can, not, use, cause, they, don, offer, wheelchair, vans, in, pdx, disapointed, getthanked]\n",
              "2   3  ...                                                                                                  [bihday, your, majesty]\n",
              "3   4  ...                                                                        [model, love, take, with, all, the, time, in, ur]\n",
              "4   5  ...                                                                                   [factsguide, society, now, motivation]\n",
              "\n",
              "[5 rows x 12 columns]"
            ]
          },
          "metadata": {
            "tags": []
          },
          "execution_count": 39
        }
      ]
    },
    {
      "cell_type": "code",
      "metadata": {
        "colab": {
          "base_uri": "https://localhost:8080/"
        },
        "id": "-LViirwXtLW8",
        "outputId": "db4d8564-42f8-4f8e-c36e-e69e491d0d7e"
      },
      "source": [
        "nltk.download('stopwords')"
      ],
      "execution_count": 41,
      "outputs": [
        {
          "output_type": "stream",
          "text": [
            "[nltk_data] Downloading package stopwords to /root/nltk_data...\n",
            "[nltk_data]   Unzipping corpora/stopwords.zip.\n"
          ],
          "name": "stdout"
        },
        {
          "output_type": "execute_result",
          "data": {
            "text/plain": [
              "True"
            ]
          },
          "metadata": {
            "tags": []
          },
          "execution_count": 41
        }
      ]
    },
    {
      "cell_type": "code",
      "metadata": {
        "id": "8_fwrn5Us4OL"
      },
      "source": [
        "stop_words = set(stopwords.words(\"english\"))\n"
      ],
      "execution_count": 42,
      "outputs": []
    },
    {
      "cell_type": "code",
      "metadata": {
        "id": "H3sLpvmPs5Zc"
      },
      "source": [
        "def wo_stopwords(frame):\n",
        "    frame['tokens_wo_stop'] = None\n",
        "    for i in range(0, frame.shape[0]):\n",
        "        li = frame['tokens'][i] \n",
        "        frame['tokens_wo_stop'][i] = [word for word in li if not word in stop_words]\n",
        "    return frame"
      ],
      "execution_count": 45,
      "outputs": []
    },
    {
      "cell_type": "code",
      "metadata": {
        "colab": {
          "base_uri": "https://localhost:8080/"
        },
        "id": "z9NSHupEtNT8",
        "outputId": "dcfc9bf4-5af5-4a41-c3a6-47188de28c58"
      },
      "source": [
        "data_train = wo_stopwords(data_train)"
      ],
      "execution_count": 46,
      "outputs": [
        {
          "output_type": "stream",
          "text": [
            "/usr/local/lib/python3.7/dist-packages/ipykernel_launcher.py:5: SettingWithCopyWarning: \n",
            "A value is trying to be set on a copy of a slice from a DataFrame\n",
            "\n",
            "See the caveats in the documentation: https://pandas.pydata.org/pandas-docs/stable/user_guide/indexing.html#returning-a-view-versus-a-copy\n",
            "  \"\"\"\n"
          ],
          "name": "stderr"
        }
      ]
    },
    {
      "cell_type": "code",
      "metadata": {
        "id": "GP2whObyuWcr"
      },
      "source": [
        "from nltk.stem import PorterStemmer\n",
        " print(\"Stemmer:\", stemmer.stem(word))"
      ],
      "execution_count": 47,
      "outputs": []
    },
    {
      "cell_type": "code",
      "metadata": {
        "id": "YIZda_zWuaQl"
      },
      "source": [
        "def stemmer(frame):\n",
        "    frame['stemmer'] = None\n",
        "    stemmer = PorterStemmer()\n",
        "    for i in range(0, frame.shape[0]):\n",
        "        li = frame['tokens_wo_stop'][i]\n",
        "        res = [] \n",
        "        for word in li:\n",
        "            res.append(stemmer.stem(word))\n",
        "        frame['stemmer'][i] = res\n",
        "    return frame"
      ],
      "execution_count": 52,
      "outputs": []
    },
    {
      "cell_type": "code",
      "metadata": {
        "colab": {
          "base_uri": "https://localhost:8080/"
        },
        "id": "VOGEduH8uza2",
        "outputId": "d7f6c9fd-d579-477b-c7e0-c8dad3c98c56"
      },
      "source": [
        "data_train = stemmer(data_train)"
      ],
      "execution_count": 53,
      "outputs": [
        {
          "output_type": "stream",
          "text": [
            "/usr/local/lib/python3.7/dist-packages/ipykernel_launcher.py:9: SettingWithCopyWarning: \n",
            "A value is trying to be set on a copy of a slice from a DataFrame\n",
            "\n",
            "See the caveats in the documentation: https://pandas.pydata.org/pandas-docs/stable/user_guide/indexing.html#returning-a-view-versus-a-copy\n",
            "  if __name__ == '__main__':\n"
          ],
          "name": "stderr"
        }
      ]
    },
    {
      "cell_type": "code",
      "metadata": {
        "id": "Mrki2zSVycK1"
      },
      "source": [
        ""
      ],
      "execution_count": null,
      "outputs": []
    },
    {
      "cell_type": "code",
      "metadata": {
        "colab": {
          "base_uri": "https://localhost:8080/",
          "height": 1000
        },
        "id": "7fbLvAQvwQSO",
        "outputId": "77125b0e-2954-4ce4-d449-f1ec2b36f7d3"
      },
      "source": [
        "data_train"
      ],
      "execution_count": 54,
      "outputs": [
        {
          "output_type": "execute_result",
          "data": {
            "text/html": [
              "<div>\n",
              "<style scoped>\n",
              "    .dataframe tbody tr th:only-of-type {\n",
              "        vertical-align: middle;\n",
              "    }\n",
              "\n",
              "    .dataframe tbody tr th {\n",
              "        vertical-align: top;\n",
              "    }\n",
              "\n",
              "    .dataframe thead th {\n",
              "        text-align: right;\n",
              "    }\n",
              "</style>\n",
              "<table border=\"1\" class=\"dataframe\">\n",
              "  <thead>\n",
              "    <tr style=\"text-align: right;\">\n",
              "      <th></th>\n",
              "      <th>id</th>\n",
              "      <th>label</th>\n",
              "      <th>tweet</th>\n",
              "      <th>tweet_wo_mention</th>\n",
              "      <th>tweet_wo_apostr</th>\n",
              "      <th>tweet_wo_short</th>\n",
              "      <th>tweet_wo_emot</th>\n",
              "      <th>tweet_wo_punct</th>\n",
              "      <th>tweet_wo_spec</th>\n",
              "      <th>tweet_wo_anything</th>\n",
              "      <th>fine</th>\n",
              "      <th>tokens</th>\n",
              "      <th>tokens_wo_stop</th>\n",
              "      <th>stemmer</th>\n",
              "    </tr>\n",
              "  </thead>\n",
              "  <tbody>\n",
              "    <tr>\n",
              "      <th>0</th>\n",
              "      <td>1</td>\n",
              "      <td>0</td>\n",
              "      <td>@user when a father is dysfunctional and is so selfish he drags his kids into his dysfunction.   #run</td>\n",
              "      <td>when a father is dysfunctional and is so selfish he drags his kids into his dysfunction.   #run</td>\n",
              "      <td>when a father is dysfunctional and is so selfish he drags his kids into his dysfunction.   #run</td>\n",
              "      <td>when a father is dysfunctional and is so selfish he drags his kids into his dysfunction.   #run</td>\n",
              "      <td>when a father is dysfunctional and is so selfish he drags his kids into his dysfunction.   #run</td>\n",
              "      <td>when a father is dysfunctional and is so selfish he drags his kids into his dysfunction     run</td>\n",
              "      <td>when a father is dysfunctional and is so selfish he drags his kids into his dysfunction     run</td>\n",
              "      <td>when a father is dysfunctional and is so selfish he drags his kids into his dysfunction     run</td>\n",
              "      <td>when father is dysfunctional and is so selfish he drags his kids into his dysfunction run</td>\n",
              "      <td>[when, father, is, dysfunctional, and, is, so, selfish, he, drags, his, kids, into, his, dysfunction, run]</td>\n",
              "      <td>[father, dysfunctional, selfish, drags, kids, dysfunction, run]</td>\n",
              "      <td>[father, dysfunct, selfish, drag, kid, dysfunct, run]</td>\n",
              "    </tr>\n",
              "    <tr>\n",
              "      <th>1</th>\n",
              "      <td>2</td>\n",
              "      <td>0</td>\n",
              "      <td>@user @user thanks for #lyft credit i can't use cause they don't offer wheelchair vans in pdx.    #disapointed #getthanked</td>\n",
              "      <td>thanks for #lyft credit i can't use cause they don't offer wheelchair vans in pdx.    #disapointed #getthanked</td>\n",
              "      <td>thanks for #lyft credit i cant use cause they don't offer wheelchair vans in pdx.    #disapointed #getthanked</td>\n",
              "      <td>thanks for #lyft credit i can not use cause they don't offer wheelchair vans in pdx.    #disapointed #getthanked</td>\n",
              "      <td>thanks for #lyft credit i can not use cause they don't offer wheelchair vans in pdx.    #disapointed #getthanked</td>\n",
              "      <td>thanks for  lyft credit i can not use cause they don t offer wheelchair vans in pdx      disapointed  getthanked</td>\n",
              "      <td>thanks for  lyft credit i can not use cause they don t offer wheelchair vans in pdx      disapointed  getthanked</td>\n",
              "      <td>thanks for  lyft credit i can not use cause they don t offer wheelchair vans in pdx      disapointed  getthanked</td>\n",
              "      <td>thanks for lyft credit can not use cause they don offer wheelchair vans in pdx disapointed getthanked</td>\n",
              "      <td>[thanks, for, lyft, credit, can, not, use, cause, they, don, offer, wheelchair, vans, in, pdx, disapointed, getthanked]</td>\n",
              "      <td>[thanks, lyft, credit, use, cause, offer, wheelchair, vans, pdx, disapointed, getthanked]</td>\n",
              "      <td>[thank, lyft, credit, use, caus, offer, wheelchair, van, pdx, disapoint, getthank]</td>\n",
              "    </tr>\n",
              "    <tr>\n",
              "      <th>2</th>\n",
              "      <td>3</td>\n",
              "      <td>0</td>\n",
              "      <td>bihday your majesty</td>\n",
              "      <td>bihday your majesty</td>\n",
              "      <td>bihday your majesty</td>\n",
              "      <td>bihday your majesty</td>\n",
              "      <td>bihday your majesty</td>\n",
              "      <td>bihday your majesty</td>\n",
              "      <td>bihday your majesty</td>\n",
              "      <td>bihday your majesty</td>\n",
              "      <td>bihday your majesty</td>\n",
              "      <td>[bihday, your, majesty]</td>\n",
              "      <td>[bihday, majesty]</td>\n",
              "      <td>[bihday, majesti]</td>\n",
              "    </tr>\n",
              "    <tr>\n",
              "      <th>3</th>\n",
              "      <td>4</td>\n",
              "      <td>0</td>\n",
              "      <td>#model   i love u take with u all the time in urð±!!! ððððð¦ð¦ð¦</td>\n",
              "      <td>#model   i love u take with u all the time in urð±!!! ððððð¦ð¦ð¦</td>\n",
              "      <td>#model   i love u take with u all the time in urð±!!! ððððð¦ð¦ð¦</td>\n",
              "      <td>#model   i love u take with u all the time in urð±!!! ððððð¦ð¦ð¦</td>\n",
              "      <td>#model   i love u take with u all the time in urð±!!! ððððð¦ð¦ð¦</td>\n",
              "      <td>model   i love u take with u all the time in urð       ð   ð   ð   ð  ð   ð   ð</td>\n",
              "      <td>model   i love u take with u all the time in ur</td>\n",
              "      <td>model   i love u take with u all the time in ur</td>\n",
              "      <td>model love take with all the time in ur</td>\n",
              "      <td>[model, love, take, with, all, the, time, in, ur]</td>\n",
              "      <td>[model, love, take, time, ur]</td>\n",
              "      <td>[model, love, take, time, ur]</td>\n",
              "    </tr>\n",
              "    <tr>\n",
              "      <th>4</th>\n",
              "      <td>5</td>\n",
              "      <td>0</td>\n",
              "      <td>factsguide: society now    #motivation</td>\n",
              "      <td>factsguide: society now    #motivation</td>\n",
              "      <td>factsguide: society now    #motivation</td>\n",
              "      <td>factsguide: society now    #motivation</td>\n",
              "      <td>factsguide: society now    #motivation</td>\n",
              "      <td>factsguide  society now     motivation</td>\n",
              "      <td>factsguide  society now     motivation</td>\n",
              "      <td>factsguide  society now     motivation</td>\n",
              "      <td>factsguide society now motivation</td>\n",
              "      <td>[factsguide, society, now, motivation]</td>\n",
              "      <td>[factsguide, society, motivation]</td>\n",
              "      <td>[factsguid, societi, motiv]</td>\n",
              "    </tr>\n",
              "    <tr>\n",
              "      <th>...</th>\n",
              "      <td>...</td>\n",
              "      <td>...</td>\n",
              "      <td>...</td>\n",
              "      <td>...</td>\n",
              "      <td>...</td>\n",
              "      <td>...</td>\n",
              "      <td>...</td>\n",
              "      <td>...</td>\n",
              "      <td>...</td>\n",
              "      <td>...</td>\n",
              "      <td>...</td>\n",
              "      <td>...</td>\n",
              "      <td>...</td>\n",
              "      <td>...</td>\n",
              "    </tr>\n",
              "    <tr>\n",
              "      <th>31957</th>\n",
              "      <td>31958</td>\n",
              "      <td>0</td>\n",
              "      <td>ate @user isz that youuu?ðððððððððâ¤ï¸</td>\n",
              "      <td>ate  isz that youuu?ðððððððððâ¤ï¸</td>\n",
              "      <td>ate  isz that youuu?ðððððððððâ¤ï¸</td>\n",
              "      <td>ate  isz that youuu?ðððððððððâ¤ï¸</td>\n",
              "      <td>ate  isz that youuu?ðððððððððâ¤ï¸</td>\n",
              "      <td>ate  isz that youuu ð   ð   ð   ð   ð   ð   ð   ð   ð   â  ï</td>\n",
              "      <td>ate  isz that youuu</td>\n",
              "      <td>ate  isz that youuu</td>\n",
              "      <td>ate isz that youuu</td>\n",
              "      <td>[ate, isz, that, youuu]</td>\n",
              "      <td>[ate, isz, youuu]</td>\n",
              "      <td>[ate, isz, youuu]</td>\n",
              "    </tr>\n",
              "    <tr>\n",
              "      <th>31958</th>\n",
              "      <td>31959</td>\n",
              "      <td>0</td>\n",
              "      <td>to see nina turner on the airwaves trying to wrap herself in the mantle of a genuine hero like shirley chisolm. #shame #imwithher</td>\n",
              "      <td>to see nina turner on the airwaves trying to wrap herself in the mantle of a genuine hero like shirley chisolm. #shame #imwithher</td>\n",
              "      <td>to see nina turner on the airwaves trying to wrap herself in the mantle of a genuine hero like shirley chisolm. #shame #imwithher</td>\n",
              "      <td>to see nina turner on the airwaves trying to wrap herself in the mantle of a genuine hero like shirley chisolm. #shame #imwithher</td>\n",
              "      <td>to see nina turner on the airwaves trying to wrap herself in the mantle of a genuine hero like shirley chisolm. #shame #imwithher</td>\n",
              "      <td>to see nina turner on the airwaves trying to wrap herself in the mantle of a genuine hero like shirley chisolm   shame  imwithher</td>\n",
              "      <td>to see nina turner on the airwaves trying to wrap herself in the mantle of a genuine hero like shirley chisolm   shame  imwithher</td>\n",
              "      <td>to see nina turner on the airwaves trying to wrap herself in the mantle of a genuine hero like shirley chisolm   shame  imwithher</td>\n",
              "      <td>to see nina turner on the airwaves trying to wrap herself in the mantle of genuine hero like shirley chisolm shame imwithher</td>\n",
              "      <td>[to, see, nina, turner, on, the, airwaves, trying, to, wrap, herself, in, the, mantle, of, genuine, hero, like, shirley, chisolm, shame, imwithher]</td>\n",
              "      <td>[see, nina, turner, airwaves, trying, wrap, mantle, genuine, hero, like, shirley, chisolm, shame, imwithher]</td>\n",
              "      <td>[see, nina, turner, airwav, tri, wrap, mantl, genuin, hero, like, shirley, chisolm, shame, imwithh]</td>\n",
              "    </tr>\n",
              "    <tr>\n",
              "      <th>31959</th>\n",
              "      <td>31960</td>\n",
              "      <td>0</td>\n",
              "      <td>listening to sad songs on a monday morning otw to work is sad</td>\n",
              "      <td>listening to sad songs on a monday morning otw to work is sad</td>\n",
              "      <td>listening to sad songs on a monday morning otw to work is sad</td>\n",
              "      <td>listening to sad songs on a monday morning otw to work is sad</td>\n",
              "      <td>listening to sad songs on a monday morning otw to work is sad</td>\n",
              "      <td>listening to sad songs on a monday morning otw to work is sad</td>\n",
              "      <td>listening to sad songs on a monday morning otw to work is sad</td>\n",
              "      <td>listening to sad songs on a monday morning otw to work is sad</td>\n",
              "      <td>listening to sad songs on monday morning otw to work is sad</td>\n",
              "      <td>[listening, to, sad, songs, on, monday, morning, otw, to, work, is, sad]</td>\n",
              "      <td>[listening, sad, songs, monday, morning, otw, work, sad]</td>\n",
              "      <td>[listen, sad, song, monday, morn, otw, work, sad]</td>\n",
              "    </tr>\n",
              "    <tr>\n",
              "      <th>31960</th>\n",
              "      <td>31961</td>\n",
              "      <td>1</td>\n",
              "      <td>@user #sikh #temple vandalised in in #calgary, #wso condemns  act</td>\n",
              "      <td>#sikh #temple vandalised in in #calgary, #wso condemns  act</td>\n",
              "      <td>#sikh #temple vandalised in in #calgary, #wso condemns  act</td>\n",
              "      <td>#sikh #temple vandalised in in #calgary, #wso condemns  act</td>\n",
              "      <td>#sikh #temple vandalised in in #calgary, #wso condemns  act</td>\n",
              "      <td>sikh  temple vandalised in in  calgary   wso condemns  act</td>\n",
              "      <td>sikh  temple vandalised in in  calgary   wso condemns  act</td>\n",
              "      <td>sikh  temple vandalised in in  calgary   wso condemns  act</td>\n",
              "      <td>sikh temple vandalised in in calgary wso condemns act</td>\n",
              "      <td>[sikh, temple, vandalised, in, in, calgary, wso, condemns, act]</td>\n",
              "      <td>[sikh, temple, vandalised, calgary, wso, condemns, act]</td>\n",
              "      <td>[sikh, templ, vandalis, calgari, wso, condemn, act]</td>\n",
              "    </tr>\n",
              "    <tr>\n",
              "      <th>31961</th>\n",
              "      <td>31962</td>\n",
              "      <td>0</td>\n",
              "      <td>thank you @user for you follow</td>\n",
              "      <td>thank you  for you follow</td>\n",
              "      <td>thank you  for you follow</td>\n",
              "      <td>thank you  for you follow</td>\n",
              "      <td>thank you  for you follow</td>\n",
              "      <td>thank you  for you follow</td>\n",
              "      <td>thank you  for you follow</td>\n",
              "      <td>thank you  for you follow</td>\n",
              "      <td>thank you for you follow</td>\n",
              "      <td>[thank, you, for, you, follow]</td>\n",
              "      <td>[thank, follow]</td>\n",
              "      <td>[thank, follow]</td>\n",
              "    </tr>\n",
              "  </tbody>\n",
              "</table>\n",
              "<p>31962 rows × 14 columns</p>\n",
              "</div>"
            ],
            "text/plain": [
              "          id  ...                                                                                              stemmer\n",
              "0          1  ...                                                [father, dysfunct, selfish, drag, kid, dysfunct, run]\n",
              "1          2  ...                   [thank, lyft, credit, use, caus, offer, wheelchair, van, pdx, disapoint, getthank]\n",
              "2          3  ...                                                                                    [bihday, majesti]\n",
              "3          4  ...                                                                        [model, love, take, time, ur]\n",
              "4          5  ...                                                                          [factsguid, societi, motiv]\n",
              "...      ...  ...                                                                                                  ...\n",
              "31957  31958  ...                                                                                    [ate, isz, youuu]\n",
              "31958  31959  ...  [see, nina, turner, airwav, tri, wrap, mantl, genuin, hero, like, shirley, chisolm, shame, imwithh]\n",
              "31959  31960  ...                                                    [listen, sad, song, monday, morn, otw, work, sad]\n",
              "31960  31961  ...                                                  [sikh, templ, vandalis, calgari, wso, condemn, act]\n",
              "31961  31962  ...                                                                                      [thank, follow]\n",
              "\n",
              "[31962 rows x 14 columns]"
            ]
          },
          "metadata": {
            "tags": []
          },
          "execution_count": 54
        }
      ]
    },
    {
      "cell_type": "code",
      "metadata": {
        "colab": {
          "base_uri": "https://localhost:8080/"
        },
        "id": "QwYQpE4xygC_",
        "outputId": "acd3447d-6e50-4dd8-db35-df4de278c226"
      },
      "source": [
        "from nltk.stem import WordNetLemmatizer\n",
        "\n",
        "nltk.download('wordnet')"
      ],
      "execution_count": 62,
      "outputs": [
        {
          "output_type": "stream",
          "text": [
            "[nltk_data] Downloading package wordnet to /root/nltk_data...\n",
            "[nltk_data]   Unzipping corpora/wordnet.zip.\n"
          ],
          "name": "stdout"
        },
        {
          "output_type": "execute_result",
          "data": {
            "text/plain": [
              "True"
            ]
          },
          "metadata": {
            "tags": []
          },
          "execution_count": 62
        }
      ]
    },
    {
      "cell_type": "code",
      "metadata": {
        "id": "pGbSu2wcycjl"
      },
      "source": [
        "def lemmer(frame):\n",
        "    frame['lemm'] = None\n",
        "    lemmatizer = WordNetLemmatizer()\n",
        "    for i in range(0, frame.shape[0]):\n",
        "        li = frame['stemmer'][i]\n",
        "        res = [] \n",
        "        for word in li:\n",
        "            res.append(lemmatizer.lemmatize(word))\n",
        "        frame['lemm'][i] = res\n",
        "    return frame"
      ],
      "execution_count": 63,
      "outputs": []
    },
    {
      "cell_type": "code",
      "metadata": {
        "colab": {
          "base_uri": "https://localhost:8080/"
        },
        "id": "OcrznsVvzO2d",
        "outputId": "aaabe184-0403-4b87-c9bc-ae9711259633"
      },
      "source": [
        "data_train = lemmer(data_train)"
      ],
      "execution_count": 64,
      "outputs": [
        {
          "output_type": "stream",
          "text": [
            "/usr/local/lib/python3.7/dist-packages/ipykernel_launcher.py:9: SettingWithCopyWarning: \n",
            "A value is trying to be set on a copy of a slice from a DataFrame\n",
            "\n",
            "See the caveats in the documentation: https://pandas.pydata.org/pandas-docs/stable/user_guide/indexing.html#returning-a-view-versus-a-copy\n",
            "  if __name__ == '__main__':\n"
          ],
          "name": "stderr"
        }
      ]
    },
    {
      "cell_type": "code",
      "metadata": {
        "colab": {
          "base_uri": "https://localhost:8080/",
          "height": 1000
        },
        "id": "9uJlSCW2zfqw",
        "outputId": "40875239-12b3-419e-f63b-4bb71b6271a0"
      },
      "source": [
        "data_train"
      ],
      "execution_count": 65,
      "outputs": [
        {
          "output_type": "execute_result",
          "data": {
            "text/html": [
              "<div>\n",
              "<style scoped>\n",
              "    .dataframe tbody tr th:only-of-type {\n",
              "        vertical-align: middle;\n",
              "    }\n",
              "\n",
              "    .dataframe tbody tr th {\n",
              "        vertical-align: top;\n",
              "    }\n",
              "\n",
              "    .dataframe thead th {\n",
              "        text-align: right;\n",
              "    }\n",
              "</style>\n",
              "<table border=\"1\" class=\"dataframe\">\n",
              "  <thead>\n",
              "    <tr style=\"text-align: right;\">\n",
              "      <th></th>\n",
              "      <th>id</th>\n",
              "      <th>label</th>\n",
              "      <th>tweet</th>\n",
              "      <th>tweet_wo_mention</th>\n",
              "      <th>tweet_wo_apostr</th>\n",
              "      <th>tweet_wo_short</th>\n",
              "      <th>tweet_wo_emot</th>\n",
              "      <th>tweet_wo_punct</th>\n",
              "      <th>tweet_wo_spec</th>\n",
              "      <th>tweet_wo_anything</th>\n",
              "      <th>fine</th>\n",
              "      <th>tokens</th>\n",
              "      <th>tokens_wo_stop</th>\n",
              "      <th>stemmer</th>\n",
              "      <th>lemm</th>\n",
              "    </tr>\n",
              "  </thead>\n",
              "  <tbody>\n",
              "    <tr>\n",
              "      <th>0</th>\n",
              "      <td>1</td>\n",
              "      <td>0</td>\n",
              "      <td>@user when a father is dysfunctional and is so selfish he drags his kids into his dysfunction.   #run</td>\n",
              "      <td>when a father is dysfunctional and is so selfish he drags his kids into his dysfunction.   #run</td>\n",
              "      <td>when a father is dysfunctional and is so selfish he drags his kids into his dysfunction.   #run</td>\n",
              "      <td>when a father is dysfunctional and is so selfish he drags his kids into his dysfunction.   #run</td>\n",
              "      <td>when a father is dysfunctional and is so selfish he drags his kids into his dysfunction.   #run</td>\n",
              "      <td>when a father is dysfunctional and is so selfish he drags his kids into his dysfunction     run</td>\n",
              "      <td>when a father is dysfunctional and is so selfish he drags his kids into his dysfunction     run</td>\n",
              "      <td>when a father is dysfunctional and is so selfish he drags his kids into his dysfunction     run</td>\n",
              "      <td>when father is dysfunctional and is so selfish he drags his kids into his dysfunction run</td>\n",
              "      <td>[when, father, is, dysfunctional, and, is, so, selfish, he, drags, his, kids, into, his, dysfunction, run]</td>\n",
              "      <td>[father, dysfunctional, selfish, drags, kids, dysfunction, run]</td>\n",
              "      <td>[father, dysfunct, selfish, drag, kid, dysfunct, run]</td>\n",
              "      <td>[father, dysfunct, selfish, drag, kid, dysfunct, run]</td>\n",
              "    </tr>\n",
              "    <tr>\n",
              "      <th>1</th>\n",
              "      <td>2</td>\n",
              "      <td>0</td>\n",
              "      <td>@user @user thanks for #lyft credit i can't use cause they don't offer wheelchair vans in pdx.    #disapointed #getthanked</td>\n",
              "      <td>thanks for #lyft credit i can't use cause they don't offer wheelchair vans in pdx.    #disapointed #getthanked</td>\n",
              "      <td>thanks for #lyft credit i cant use cause they don't offer wheelchair vans in pdx.    #disapointed #getthanked</td>\n",
              "      <td>thanks for #lyft credit i can not use cause they don't offer wheelchair vans in pdx.    #disapointed #getthanked</td>\n",
              "      <td>thanks for #lyft credit i can not use cause they don't offer wheelchair vans in pdx.    #disapointed #getthanked</td>\n",
              "      <td>thanks for  lyft credit i can not use cause they don t offer wheelchair vans in pdx      disapointed  getthanked</td>\n",
              "      <td>thanks for  lyft credit i can not use cause they don t offer wheelchair vans in pdx      disapointed  getthanked</td>\n",
              "      <td>thanks for  lyft credit i can not use cause they don t offer wheelchair vans in pdx      disapointed  getthanked</td>\n",
              "      <td>thanks for lyft credit can not use cause they don offer wheelchair vans in pdx disapointed getthanked</td>\n",
              "      <td>[thanks, for, lyft, credit, can, not, use, cause, they, don, offer, wheelchair, vans, in, pdx, disapointed, getthanked]</td>\n",
              "      <td>[thanks, lyft, credit, use, cause, offer, wheelchair, vans, pdx, disapointed, getthanked]</td>\n",
              "      <td>[thank, lyft, credit, use, caus, offer, wheelchair, van, pdx, disapoint, getthank]</td>\n",
              "      <td>[thank, lyft, credit, use, caus, offer, wheelchair, van, pdx, disapoint, getthank]</td>\n",
              "    </tr>\n",
              "    <tr>\n",
              "      <th>2</th>\n",
              "      <td>3</td>\n",
              "      <td>0</td>\n",
              "      <td>bihday your majesty</td>\n",
              "      <td>bihday your majesty</td>\n",
              "      <td>bihday your majesty</td>\n",
              "      <td>bihday your majesty</td>\n",
              "      <td>bihday your majesty</td>\n",
              "      <td>bihday your majesty</td>\n",
              "      <td>bihday your majesty</td>\n",
              "      <td>bihday your majesty</td>\n",
              "      <td>bihday your majesty</td>\n",
              "      <td>[bihday, your, majesty]</td>\n",
              "      <td>[bihday, majesty]</td>\n",
              "      <td>[bihday, majesti]</td>\n",
              "      <td>[bihday, majesti]</td>\n",
              "    </tr>\n",
              "    <tr>\n",
              "      <th>3</th>\n",
              "      <td>4</td>\n",
              "      <td>0</td>\n",
              "      <td>#model   i love u take with u all the time in urð±!!! ððððð¦ð¦ð¦</td>\n",
              "      <td>#model   i love u take with u all the time in urð±!!! ððððð¦ð¦ð¦</td>\n",
              "      <td>#model   i love u take with u all the time in urð±!!! ððððð¦ð¦ð¦</td>\n",
              "      <td>#model   i love u take with u all the time in urð±!!! ððððð¦ð¦ð¦</td>\n",
              "      <td>#model   i love u take with u all the time in urð±!!! ððððð¦ð¦ð¦</td>\n",
              "      <td>model   i love u take with u all the time in urð       ð   ð   ð   ð  ð   ð   ð</td>\n",
              "      <td>model   i love u take with u all the time in ur</td>\n",
              "      <td>model   i love u take with u all the time in ur</td>\n",
              "      <td>model love take with all the time in ur</td>\n",
              "      <td>[model, love, take, with, all, the, time, in, ur]</td>\n",
              "      <td>[model, love, take, time, ur]</td>\n",
              "      <td>[model, love, take, time, ur]</td>\n",
              "      <td>[model, love, take, time, ur]</td>\n",
              "    </tr>\n",
              "    <tr>\n",
              "      <th>4</th>\n",
              "      <td>5</td>\n",
              "      <td>0</td>\n",
              "      <td>factsguide: society now    #motivation</td>\n",
              "      <td>factsguide: society now    #motivation</td>\n",
              "      <td>factsguide: society now    #motivation</td>\n",
              "      <td>factsguide: society now    #motivation</td>\n",
              "      <td>factsguide: society now    #motivation</td>\n",
              "      <td>factsguide  society now     motivation</td>\n",
              "      <td>factsguide  society now     motivation</td>\n",
              "      <td>factsguide  society now     motivation</td>\n",
              "      <td>factsguide society now motivation</td>\n",
              "      <td>[factsguide, society, now, motivation]</td>\n",
              "      <td>[factsguide, society, motivation]</td>\n",
              "      <td>[factsguid, societi, motiv]</td>\n",
              "      <td>[factsguid, societi, motiv]</td>\n",
              "    </tr>\n",
              "    <tr>\n",
              "      <th>...</th>\n",
              "      <td>...</td>\n",
              "      <td>...</td>\n",
              "      <td>...</td>\n",
              "      <td>...</td>\n",
              "      <td>...</td>\n",
              "      <td>...</td>\n",
              "      <td>...</td>\n",
              "      <td>...</td>\n",
              "      <td>...</td>\n",
              "      <td>...</td>\n",
              "      <td>...</td>\n",
              "      <td>...</td>\n",
              "      <td>...</td>\n",
              "      <td>...</td>\n",
              "      <td>...</td>\n",
              "    </tr>\n",
              "    <tr>\n",
              "      <th>31957</th>\n",
              "      <td>31958</td>\n",
              "      <td>0</td>\n",
              "      <td>ate @user isz that youuu?ðððððððððâ¤ï¸</td>\n",
              "      <td>ate  isz that youuu?ðððððððððâ¤ï¸</td>\n",
              "      <td>ate  isz that youuu?ðððððððððâ¤ï¸</td>\n",
              "      <td>ate  isz that youuu?ðððððððððâ¤ï¸</td>\n",
              "      <td>ate  isz that youuu?ðððððððððâ¤ï¸</td>\n",
              "      <td>ate  isz that youuu ð   ð   ð   ð   ð   ð   ð   ð   ð   â  ï</td>\n",
              "      <td>ate  isz that youuu</td>\n",
              "      <td>ate  isz that youuu</td>\n",
              "      <td>ate isz that youuu</td>\n",
              "      <td>[ate, isz, that, youuu]</td>\n",
              "      <td>[ate, isz, youuu]</td>\n",
              "      <td>[ate, isz, youuu]</td>\n",
              "      <td>[ate, isz, youuu]</td>\n",
              "    </tr>\n",
              "    <tr>\n",
              "      <th>31958</th>\n",
              "      <td>31959</td>\n",
              "      <td>0</td>\n",
              "      <td>to see nina turner on the airwaves trying to wrap herself in the mantle of a genuine hero like shirley chisolm. #shame #imwithher</td>\n",
              "      <td>to see nina turner on the airwaves trying to wrap herself in the mantle of a genuine hero like shirley chisolm. #shame #imwithher</td>\n",
              "      <td>to see nina turner on the airwaves trying to wrap herself in the mantle of a genuine hero like shirley chisolm. #shame #imwithher</td>\n",
              "      <td>to see nina turner on the airwaves trying to wrap herself in the mantle of a genuine hero like shirley chisolm. #shame #imwithher</td>\n",
              "      <td>to see nina turner on the airwaves trying to wrap herself in the mantle of a genuine hero like shirley chisolm. #shame #imwithher</td>\n",
              "      <td>to see nina turner on the airwaves trying to wrap herself in the mantle of a genuine hero like shirley chisolm   shame  imwithher</td>\n",
              "      <td>to see nina turner on the airwaves trying to wrap herself in the mantle of a genuine hero like shirley chisolm   shame  imwithher</td>\n",
              "      <td>to see nina turner on the airwaves trying to wrap herself in the mantle of a genuine hero like shirley chisolm   shame  imwithher</td>\n",
              "      <td>to see nina turner on the airwaves trying to wrap herself in the mantle of genuine hero like shirley chisolm shame imwithher</td>\n",
              "      <td>[to, see, nina, turner, on, the, airwaves, trying, to, wrap, herself, in, the, mantle, of, genuine, hero, like, shirley, chisolm, shame, imwithher]</td>\n",
              "      <td>[see, nina, turner, airwaves, trying, wrap, mantle, genuine, hero, like, shirley, chisolm, shame, imwithher]</td>\n",
              "      <td>[see, nina, turner, airwav, tri, wrap, mantl, genuin, hero, like, shirley, chisolm, shame, imwithh]</td>\n",
              "      <td>[see, nina, turner, airwav, tri, wrap, mantl, genuin, hero, like, shirley, chisolm, shame, imwithh]</td>\n",
              "    </tr>\n",
              "    <tr>\n",
              "      <th>31959</th>\n",
              "      <td>31960</td>\n",
              "      <td>0</td>\n",
              "      <td>listening to sad songs on a monday morning otw to work is sad</td>\n",
              "      <td>listening to sad songs on a monday morning otw to work is sad</td>\n",
              "      <td>listening to sad songs on a monday morning otw to work is sad</td>\n",
              "      <td>listening to sad songs on a monday morning otw to work is sad</td>\n",
              "      <td>listening to sad songs on a monday morning otw to work is sad</td>\n",
              "      <td>listening to sad songs on a monday morning otw to work is sad</td>\n",
              "      <td>listening to sad songs on a monday morning otw to work is sad</td>\n",
              "      <td>listening to sad songs on a monday morning otw to work is sad</td>\n",
              "      <td>listening to sad songs on monday morning otw to work is sad</td>\n",
              "      <td>[listening, to, sad, songs, on, monday, morning, otw, to, work, is, sad]</td>\n",
              "      <td>[listening, sad, songs, monday, morning, otw, work, sad]</td>\n",
              "      <td>[listen, sad, song, monday, morn, otw, work, sad]</td>\n",
              "      <td>[listen, sad, song, monday, morn, otw, work, sad]</td>\n",
              "    </tr>\n",
              "    <tr>\n",
              "      <th>31960</th>\n",
              "      <td>31961</td>\n",
              "      <td>1</td>\n",
              "      <td>@user #sikh #temple vandalised in in #calgary, #wso condemns  act</td>\n",
              "      <td>#sikh #temple vandalised in in #calgary, #wso condemns  act</td>\n",
              "      <td>#sikh #temple vandalised in in #calgary, #wso condemns  act</td>\n",
              "      <td>#sikh #temple vandalised in in #calgary, #wso condemns  act</td>\n",
              "      <td>#sikh #temple vandalised in in #calgary, #wso condemns  act</td>\n",
              "      <td>sikh  temple vandalised in in  calgary   wso condemns  act</td>\n",
              "      <td>sikh  temple vandalised in in  calgary   wso condemns  act</td>\n",
              "      <td>sikh  temple vandalised in in  calgary   wso condemns  act</td>\n",
              "      <td>sikh temple vandalised in in calgary wso condemns act</td>\n",
              "      <td>[sikh, temple, vandalised, in, in, calgary, wso, condemns, act]</td>\n",
              "      <td>[sikh, temple, vandalised, calgary, wso, condemns, act]</td>\n",
              "      <td>[sikh, templ, vandalis, calgari, wso, condemn, act]</td>\n",
              "      <td>[sikh, templ, vandalis, calgari, wso, condemn, act]</td>\n",
              "    </tr>\n",
              "    <tr>\n",
              "      <th>31961</th>\n",
              "      <td>31962</td>\n",
              "      <td>0</td>\n",
              "      <td>thank you @user for you follow</td>\n",
              "      <td>thank you  for you follow</td>\n",
              "      <td>thank you  for you follow</td>\n",
              "      <td>thank you  for you follow</td>\n",
              "      <td>thank you  for you follow</td>\n",
              "      <td>thank you  for you follow</td>\n",
              "      <td>thank you  for you follow</td>\n",
              "      <td>thank you  for you follow</td>\n",
              "      <td>thank you for you follow</td>\n",
              "      <td>[thank, you, for, you, follow]</td>\n",
              "      <td>[thank, follow]</td>\n",
              "      <td>[thank, follow]</td>\n",
              "      <td>[thank, follow]</td>\n",
              "    </tr>\n",
              "  </tbody>\n",
              "</table>\n",
              "<p>31962 rows × 15 columns</p>\n",
              "</div>"
            ],
            "text/plain": [
              "          id  ...                                                                                                 lemm\n",
              "0          1  ...                                                [father, dysfunct, selfish, drag, kid, dysfunct, run]\n",
              "1          2  ...                   [thank, lyft, credit, use, caus, offer, wheelchair, van, pdx, disapoint, getthank]\n",
              "2          3  ...                                                                                    [bihday, majesti]\n",
              "3          4  ...                                                                        [model, love, take, time, ur]\n",
              "4          5  ...                                                                          [factsguid, societi, motiv]\n",
              "...      ...  ...                                                                                                  ...\n",
              "31957  31958  ...                                                                                    [ate, isz, youuu]\n",
              "31958  31959  ...  [see, nina, turner, airwav, tri, wrap, mantl, genuin, hero, like, shirley, chisolm, shame, imwithh]\n",
              "31959  31960  ...                                                    [listen, sad, song, monday, morn, otw, work, sad]\n",
              "31960  31961  ...                                                  [sikh, templ, vandalis, calgari, wso, condemn, act]\n",
              "31961  31962  ...                                                                                      [thank, follow]\n",
              "\n",
              "[31962 rows x 15 columns]"
            ]
          },
          "metadata": {
            "tags": []
          },
          "execution_count": 65
        }
      ]
    }
  ]
}